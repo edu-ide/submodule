{
 "cells": [
  {
   "cell_type": "markdown",
   "metadata": {},
   "source": [
    "# 📘 1권 2부 6장: 모듈과 패키지\n",
    "\n",
    "## 📌 목차\n",
    "6.1 모듈(Module)이란?  \n",
    "6.2 패키지(Package)란?  \n",
    "6.3 패키지 설치 및 관리 (pip)  \n",
    "6.4 가상환경 설정 (venv)  \n",
    "6.5 자주 사용하는 서드파티 라이브러리  \n"
   ]
  },
  {
   "cell_type": "markdown",
   "metadata": {},
   "source": [
    "## 6.1 모듈(Module)이란?\n",
    "모듈은 관련된 코드를 하나의 파일에 모아놓은 것입니다.\n",
    "\n",
    "### 모듈의 장점:\n",
    "1. **재사용성**: 코드를 여러 프로젝트에서 재사용 가능\n",
    "2. **가독성**: 코드를 논리적 단위로 구분하여 관리\n",
    "3. **유지보수성**: 코드 수정이 용이\n",
    "4. **네임스페이스**: 이름 충돌 방지\n",
    "\n",
    "### 모듈 import 방법:\n",
    "1. `import 모듈명`\n",
    "2. `from 모듈명 import 함수명`\n",
    "3. `from 모듈명 import *`\n",
    "4. `import 모듈명 as 별칭`"
   ]
  },
  {
   "cell_type": "code",
   "execution_count": null,
   "metadata": {},
   "outputs": [],
   "source": [
    "# 내장 모듈 사용 예제\n",
    "import math\n",
    "import random\n",
    "import datetime\n",
    "\n",
    "# math 모듈\n",
    "print(f\"제곱근: {math.sqrt(16)}\")\n",
    "print(f\"팩토리얼: {math.factorial(5)}\")\n",
    "print(f\"원주율: {math.pi}\")\n",
    "\n",
    "# random 모듈\n",
    "print(f\"랜덤 숫자: {random.randint(1, 10)}\")\n",
    "print(f\"랜덤 선택: {random.choice(['apple', 'banana', 'orange'])}\")\n",
    "\n",
    "# datetime 모듈\n",
    "print(f\"현재 시간: {datetime.datetime.now()}\")"
   ]
  },
  {
   "cell_type": "markdown",
   "metadata": {},
   "source": [
    "### ✅ 6.1.2 사용자 정의 모듈 만들기\n",
    "사용자가 직접 모듈을 생성하고 관리할 수 있습니다.\n",
    "\n",
    "1. 모듈 파일 생성 (.py)\n",
    "2. 함수, 클래스, 변수 정의\n",
    "3. 다른 파일에서 import하여 사용"
   ]
  },
  {
   "cell_type": "code",
   "execution_count": null,
   "metadata": {},
   "outputs": [],
   "source": [
    "# my_module.py 파일 내용\n",
    "def add(a, b):\n",
    "    \"\"\"두 수를 더하는 함수\"\"\"\n",
    "    return a + b\n",
    "\n",
    "def subtract(a, b):\n",
    "    \"\"\"두 수를 빼는 함수\"\"\"\n",
    "    return a - b\n",
    "\n",
    "# 상수 정의\n",
    "PI = 3.14159\n",
    "GRAVITY = 9.81"
   ]
  },
  {
   "cell_type": "markdown",
   "metadata": {},
   "source": [
    "## 6.2 패키지(Package)란?\n",
    "패키지는 여러 모듈을 체계적으로 관리하기 위한 디렉터리 구조입니다.\n",
    "\n",
    "### 패키지의 특징:\n",
    "1. **계층 구조**: 모듈을 논리적으로 구조화\n",
    "2. **네임스페이스**: 모듈 이름 충돌 방지\n",
    "3. **확장성**: 쉽게 새로운 모듈 추가 가능\n",
    "4. **재사용성**: 전체 패키지 단위로 재사용 가능"
   ]
  },
  {
   "cell_type": "markdown",
   "metadata": {},
   "source": [
    "### 패키지 구조 예시:\n",
    "```\n",
    "mypackage/\n",
    "├── __init__.py\n",
    "├── math/\n",
    "│   ├── __init__.py\n",
    "│   ├── basic.py\n",
    "│   └── advanced.py\n",
    "└── utils/\n",
    "    ├── __init__.py\n",
    "    ├── string_ops.py\n",
    "    └── file_ops.py\n",
    "```"
   ]
  },
  {
   "cell_type": "code",
   "execution_count": null,
   "metadata": {},
   "outputs": [],
   "source": [
    "# 패키지 사용 예제\n",
    "from mypackage.math import basic\n",
    "from mypackage.utils import string_ops\n",
    "\n",
    "result = basic.add(10, 5)\n",
    "text = string_ops.uppercase(\"hello world\")\n",
    "\n",
    "print(f\"계산 결과: {result}\")\n",
    "print(f\"변환된 텍스트: {text}\")"
   ]
  },
  {
   "cell_type": "markdown",
   "metadata": {},
   "source": [
    "## 6.3 패키지 설치 및 관리 (pip)\n",
    "pip는 Python Package Index(PyPI)에서 패키지를 설치하고 관리하는 도구입니다.\n",
    "\n",
    "### 주요 pip 명령어:\n",
    "```bash\n",
    "pip install 패키지명         # 패키지 설치\n",
    "pip uninstall 패키지명      # 패키지 제거\n",
    "pip list                   # 설치된 패키지 목록\n",
    "pip freeze                 # 설치된 패키지 버전 정보\n",
    "pip install -r requirements.txt  # requirements.txt 파일의 패키지 설치\n",
    "```"
   ]
  },
  {
   "cell_type": "markdown",
   "id": "30221f9e",
   "metadata": {},
   "source": [
    "## 6.3 패키지 설치 및 관리 (pip)\n",
    "\n",
    "### pip 기본 명령어와 사용법\n",
    "\n",
    "```bash\n",
    "# 패키지 설치\n",
    "pip install 패키지명\n",
    "\n",
    "pip install requests\n",
    "\n",
    "# 특정 버전 설치\n",
    "pip install requests==2.30.0\n",
    "\n",
    "# 패키지 업그레이드\n",
    "pip install --upgrade requests\n",
    "\n",
    "# 패키지 제거\n",
    "pip uninstall requests\n",
    "\n",
    "# 설치된 패키지 목록\n",
    "pip list                   \n",
    "\n",
    "# 설치된 패키지 버전 정보\n",
    "pip freeze               \n",
    "\n",
    "# requirements.txt 파일의 패키지 설치\n",
    "pip install -r requirements.txt  \n",
    "```"
   ]
  },
  {
   "cell_type": "code",
   "execution_count": null,
   "id": "a06da246",
   "metadata": {},
   "outputs": [],
   "source": [
    "# pip로 설치한 패키지 사용 예제\n",
    "import requests\n",
    "\n",
    "def test_api_request():\n",
    "    \"\"\"API 요청 테스트 함수\"\"\"\n",
    "    try:\n",
    "        # GitHub API 호출\n",
    "        response = requests.get('https://api.github.com')\n",
    "        \n",
    "        # 상태 코드 확인\n",
    "        print(f\"상태 코드: {response.status_code}\")\n",
    "        \n",
    "        # 응답 헤더 확인\n",
    "        print(f\"\\n응답 헤더:\")\n",
    "        for key, value in response.headers.items():\n",
    "            print(f\"{key}: {value}\")\n",
    "            \n",
    "        # JSON 데이터 확인\n",
    "        data = response.json()\n",
    "        print(f\"\\nAPI 응답:\\n{data}\")\n",
    "        \n",
    "    except requests.RequestException as e:\n",
    "        print(f\"요청 중 오류 발생: {e}\")\n",
    "\n",
    "if __name__ == \"__main__\":\n",
    "    test_api_request()"
   ]
  },
  {
   "cell_type": "markdown",
   "id": "aec311bb",
   "metadata": {},
   "source": [
    "## 6.4 가상환경 설정 (venv)\n",
    "\n",
    "### 가상환경 기본 명령어\n",
    "\n",
    "```bash\n",
    "# 가상환경 생성\n",
    "python -m venv myenv\n",
    "\n",
    "# 가상환경 활성화\n",
    "# Windows:\n",
    "myenv\\Scripts\\activate\n",
    "# macOS/Linux:\n",
    "source myenv/bin/activate\n",
    "\n",
    "# 가상환경 비활성화\n",
    "deactivate\n",
    "```"
   ]
  },
  {
   "cell_type": "code",
   "execution_count": null,
   "id": "53630441",
   "metadata": {},
   "outputs": [],
   "source": [
    "# 가상환경 관리 스크립트\n",
    "import os\n",
    "import sys\n",
    "import subprocess\n",
    "import platform\n",
    "\n",
    "class VenvManager:\n",
    "    def __init__(self, venv_name=\"myenv\"):\n",
    "        self.venv_name = venv_name\n",
    "        self.system = platform.system()\n",
    "    \n",
    "    def create_venv(self):\n",
    "        \"\"\"가상환경 생성\"\"\"\n",
    "        if not os.path.exists(self.venv_name):\n",
    "            print(f\"가상환경 '{self.venv_name}' 생성 중...\")\n",
    "            subprocess.run([sys.executable, '-m', 'venv', self.venv_name])\n",
    "            print(\"가상환경이 생성되었습니다.\")\n",
    "        else:\n",
    "            print(\"가상환경이 이미 존재합니다.\")\n",
    "    \n",
    "    def get_requirements(self):\n",
    "        \"\"\"설치된 패키지 목록 저장\"\"\"\n",
    "        print(\"설치된 패키지 목록 저장 중...\")\n",
    "        subprocess.run(['pip', 'freeze', '>', 'requirements.txt'], shell=True)\n",
    "        print(\"requirements.txt 파일이 생성되었습니다.\")\n",
    "    \n",
    "    def install_requirements(self):\n",
    "        \"\"\"requirements.txt 패키지 설치\"\"\"\n",
    "        if os.path.exists('requirements.txt'):\n",
    "            print(\"패키지 설치 중...\")\n",
    "            subprocess.run(['pip', 'install', '-r', 'requirements.txt'])\n",
    "            print(\"패키지 설치가 완료되었습니다.\")\n",
    "        else:\n",
    "            print(\"requirements.txt 파일이 없습니다.\")\n",
    "    \n",
    "    def show_venv_info(self):\n",
    "        \"\"\"가상환경 정보 출력\"\"\"\n",
    "        print(\"\\n=== 가상환경 정보 ===\")\n",
    "        print(f\"Python 버전: {sys.version}\")\n",
    "        print(f\"가상환경 위치: {sys.prefix}\")\n",
    "        print(\"\\n설치된 패키지 목록:\")\n",
    "        subprocess.run(['pip', 'list'])\n",
    "\n",
    "def main():\n",
    "    manager = VenvManager()\n",
    "    \n",
    "    # 가상환경 생성\n",
    "    manager.create_venv()\n",
    "    \n",
    "    # 패키지 설치 (예시)\n",
    "    print(\"\\n필수 패키지 설치 중...\")\n",
    "    subprocess.run(['pip', 'install', 'requests', 'pandas'])\n",
    "    \n",
    "    # requirements.txt 생성\n",
    "    manager.get_requirements()\n",
    "    \n",
    "    # 가상환경 정보 출력\n",
    "    manager.show_venv_info()\n",
    "\n",
    "if __name__ == \"__main__\":\n",
    "    main()"
   ]
  },
  {
   "cell_type": "markdown",
   "id": "5da7adaa",
   "metadata": {},
   "source": [
    "### 실행 결과 예시:\n",
    "```\n",
    "가상환경 'myenv' 생성 중...\n",
    "가상환경이 생성되었습니다.\n",
    "\n",
    "필수 패키지 설치 중...\n",
    "Successfully installed requests-2.31.0 pandas-2.1.1\n",
    "\n",
    "=== 가상환경 정보 ===\n",
    "Python 버전: 3.8.10\n",
    "가상환경 위치: /path/to/myenv\n",
    "\n",
    "설치된 패키지 목록:\n",
    "Package    Version\n",
    "---------- -------\n",
    "requests   2.31.0\n",
    "pandas     2.1.1\n",
    "```"
   ]
  },
  {
   "cell_type": "markdown",
   "metadata": {},
   "source": [
    "## 6.5 자주 사용하는 서드파티 라이브러리\n",
    "\n",
    "### 1. requests - HTTP 요청 처리\n",
    "- 웹 API 호출\n",
    "- 파일 다운로드\n",
    "- 웹 스크래핑"
   ]
  },
  {
   "cell_type": "code",
   "execution_count": null,
   "metadata": {},
   "outputs": [],
   "source": [
    "import requests\n",
    "\n",
    "# API 호출 예제\n",
    "response = requests.get(\"https://api.github.com\")\n",
    "print(f\"상태 코드: {response.status_code}\")\n",
    "print(f\"헤더 정보: {response.headers['content-type']}\")\n",
    "print(f\"응답 데이터: {response.json()}\")"
   ]
  },
  {
   "cell_type": "markdown",
   "metadata": {},
   "source": [
    "### 2. numpy - 수치 계산\n",
    "- 다차원 배열 처리\n",
    "- 선형 대수 연산\n",
    "- 고성능 수치 계산"
   ]
  },
  {
   "cell_type": "code",
   "execution_count": null,
   "metadata": {},
   "outputs": [],
   "source": [
    "import numpy as np\n",
    "\n",
    "# 배열 생성 및 연산\n",
    "arr = np.array([[1, 2, 3], [4, 5, 6]])\n",
    "print(f\"배열 형태: {arr.shape}\")\n",
    "print(f\"평균값: {arr.mean()}\")\n",
    "print(f\"최댓값: {arr.max()}\")"
   ]
  },
  {
   "cell_type": "markdown",
   "id": "6548466e",
   "metadata": {},
   "source": [
    "## 🎯 6장 실습 문제\n",
    "\n",
    "### [실습 1] 사용자 정의 모듈 만들기\n",
    "수학 연산을 수행하는 사용자 정의 모듈을 만들고 사용해보세요.\n",
    "\n",
    "1. math_tools.py 파일 생성\n",
    "2. square()와 cube() 함수 구현\n",
    "3. 다른 파일에서 모듈 import\n",
    "4. 함수 실행 및 결과 확인"
   ]
  },
  {
   "cell_type": "code",
   "execution_count": null,
   "id": "f5f4620b",
   "metadata": {},
   "outputs": [],
   "source": [
    "# math_tools.py 파일 내용\n",
    "def square(n):\n",
    "    \"\"\"숫자의 제곱을 반환하는 함수\"\"\"\n",
    "    return n ** 2\n",
    "\n",
    "def cube(n):\n",
    "    \"\"\"숫자의 세제곱을 반환하는 함수\"\"\"\n",
    "    return n ** 3"
   ]
  },
  {
   "cell_type": "code",
   "execution_count": null,
   "id": "eace4952",
   "metadata": {},
   "outputs": [],
   "source": [
    "# 모듈 사용 예제\n",
    "import math_tools\n",
    "\n",
    "# 제곱 계산\n",
    "result1 = math_tools.square(4)\n",
    "print(f\"4의 제곱: {result1}\")  # 16\n",
    "\n",
    "# 세제곱 계산\n",
    "result2 = math_tools.cube(3)\n",
    "print(f\"3의 세제곱: {result2}\")  # 27"
   ]
  },
  {
   "cell_type": "markdown",
   "id": "70434aa3",
   "metadata": {},
   "source": [
    "### [실습 2] 모듈 확장하기\n",
    "math_tools.py 모듈에 다음 기능을 추가해보세요:\n",
    "\n",
    "1. is_even(): 짝수 여부 확인\n",
    "2. factorial(): 팩토리얼 계산\n",
    "3. sum_range(): 범위 내 숫자 합계"
   ]
  },
  {
   "cell_type": "code",
   "execution_count": null,
   "id": "529878e5",
   "metadata": {},
   "outputs": [],
   "source": [
    "# math_tools.py 확장\n",
    "def is_even(n):\n",
    "    \"\"\"짝수 여부를 확인하는 함수\"\"\"\n",
    "    return n % 2 == 0\n",
    "\n",
    "def factorial(n):\n",
    "    \"\"\"팩토리얼을 계산하는 함수\"\"\"\n",
    "    if n == 0 or n == 1:\n",
    "        return 1\n",
    "    return n * factorial(n - 1)\n",
    "\n",
    "def sum_range(start, end):\n",
    "    \"\"\"주어진 범위의 숫자 합계를 계산하는 함수\"\"\"\n",
    "    return sum(range(start, end + 1))"
   ]
  },
  {
   "cell_type": "code",
   "execution_count": null,
   "id": "fc549f92",
   "metadata": {},
   "outputs": [],
   "source": [
    "# 확장된 모듈 테스트\n",
    "print(f\"10은 짝수인가요? {math_tools.is_even(10)}\")\n",
    "print(f\"5 팩토리얼: {math_tools.factorial(5)}\")\n",
    "print(f\"1부터 10까지의 합: {math_tools.sum_range(1, 10)}\")"
   ]
  },
  {
   "cell_type": "markdown",
   "id": "b66e2753",
   "metadata": {},
   "source": [
    "### 실습 문제 해설\n",
    "\n",
    "1. **모듈 생성**\n",
    "   - .py 확장자로 파일 생성\n",
    "   - 관련 함수들을 하나의 파일에 모음\n",
    "   - 각 함수에 문서화 문자열(docstring) 추가\n",
    "\n",
    "2. **모듈 사용**\n",
    "   - import 문으로 모듈 불러오기\n",
    "   - 점(.) 연산자로 함수 접근\n",
    "   - 함수 실행 및 결과 확인\n",
    "\n",
    "3. **모듈 확장**\n",
    "   - 새로운 함수 추가\n",
    "   - 기존 코드 수정 없이 기능 확장\n",
    "   - 체계적인 코드 관리\n",
    "\n",
    "### 추가 도전 과제:\n",
    "1. 삼각함수 계산 기능 추가 (sin, cos, tan)\n",
    "2. 통계 함수 추가 (평균, 중앙값, 표준편차)\n",
    "3. 단위 변환 함수 추가 (미터↔피트, 섭씨↔화씨)"
   ]
  },
  {
   "cell_type": "markdown",
   "id": "754f91f9",
   "metadata": {},
   "source": [
    "## 📌 6장 요약\n",
    "✅ 모듈과 패키지로 코드를 체계적으로 관리  \n",
    "✅ pip로 외부 패키지 설치 및 관리  \n",
    "✅ 가상환경으로 프로젝트별 독립적인 환경 구성  \n",
    "✅ 다양한 서드파티 라이브러리 활용 가능  \n",
    "\n",
    "### 추가 학습 자료:\n",
    "1. [Python 공식 문서 - 모듈](https://docs.python.org/ko/3/tutorial/modules.html)\n",
    "2. [pip 사용 가이드](https://pip.pypa.io/en/stable/)\n",
    "3. [가상환경 설정 가이드](https://docs.python.org/ko/3/tutorial/venv.html)"
   ]
  }
 ],
 "metadata": {
  "kernelspec": {
   "display_name": "sky",
   "language": "python",
   "name": "python3"
  },
  "language_info": {
   "codemirror_mode": {
    "name": "ipython",
    "version": 3
   },
   "file_extension": ".py",
   "mimetype": "text/x-python",
   "name": "python",
   "nbconvert_exporter": "python",
   "pygments_lexer": "ipython3",
   "version": "3.8.5"
  }
 },
 "nbformat": 4,
 "nbformat_minor": 5
}
