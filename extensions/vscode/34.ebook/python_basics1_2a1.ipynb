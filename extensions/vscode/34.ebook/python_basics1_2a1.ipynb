{
 "cells": [
  {
   "cell_type": "markdown",
   "id": "chapter-title",
   "metadata": {},
   "source": [
    "# 📘 1권 1부 2장: 파이썬 기초 문법"
   ]
  },
  {
   "cell_type": "markdown",
   "id": "table-of-contents",
   "metadata": {},
   "source": [
    "## 📌 목차  \n",
    "2.1 변수와 데이터 타입  \n",
    "2.2 기본 데이터 타입  \n",
    "2.3 기본 연산자  \n",
    "2.4 조건문 (if, else, elif)  \n",
    "2.5 반복문 (for, while)  \n",
    "2.6 함수 정의 및 사용"
   ]
  },
  {
   "cell_type": "markdown",
   "id": "variables-intro",
   "metadata": {},
   "source": [
    "## 2.1 변수와 데이터 타입\n",
    "### ✅ 변수란?\n",
    "변수(Variable)는 데이터를 저장하는 공간입니다.  \n",
    "파이썬에서는 변수 선언 시 데이터 타입을 자동으로 감지하기 때문에, 별도로 타입을 명시할 필요가 없습니다.\n",
    "\n",
    "### ✅ 변수 선언과 할당  \n",
    "변수는 `이름 = 값` 형식으로 선언합니다."
   ]
  },
  {
   "cell_type": "code",
   "execution_count": null,
   "id": "variable-example",
   "metadata": {},
   "outputs": [],
   "source": [
    "# 변수 선언 및 할당\n",
    "name = \"Alice\"      # 문자열(String)\n",
    "age = 25           # 정수(Integer)\n",
    "height = 167.5     # 실수(Float)\n",
    "is_student = True  # 불리언(Boolean)\n",
    "\n",
    "print(name)  # Alice\n",
    "print(age)   # 25\n",
    "print(height)  # 167.5\n",
    "print(is_student)  # True"
   ]
  },
  {
   "cell_type": "markdown",
   "id": "data-types-table",
   "metadata": {},
   "source": [
    "## 2.2 기본 데이터 타입\n",
    "### ✅ 데이터 타입이란?\n",
    "데이터 타입은 프로그래밍에서 다루는 데이터의 종류를 의미합니다.\n",
    "파이썬의 기본 데이터 타입들은 각각 고유한 특성과 사용 목적을 가지고 있습니다.\n",
    "\n",
    "| 데이터 타입 | 설명 | 예제 |\n",
    "|------------|------|------|\n",
    "| `int` | 정수형 (Integer) | `age = 25` |\n",
    "| `float` | 실수형 (Floating Point) | `pi = 3.14` |\n",
    "| `str` | 문자열 (String) | `name = \"Python\"` |\n",
    "| `bool` | 불리언 (Boolean) | `is_active = True` |\n",
    "| `list` | 리스트 (List) | `fruits = [\"apple\", \"banana\"]` |\n",
    "| `tuple` | 튜플 (Tuple) | `colors = (\"red\", \"blue\")` |\n",
    "| `dict` | 딕셔너리 (Dictionary) | `person = {\"name\": \"Alice\", \"age\": 25}` |\n",
    "| `set` | 집합 (Set) | `unique_numbers = {1, 2, 3}` |"
   ]
  },
  {
   "cell_type": "markdown",
   "id": "string-handling",
   "metadata": {},
   "source": [
    "### ✅ 간단한 문자열(String) \n",
    "문자열은 텍스트를 저장하는 데이터 타입입니다."
   ]
  },
  {
   "cell_type": "code",
   "execution_count": null,
   "id": "string-examples",
   "metadata": {},
   "outputs": [],
   "source": [
    "text = \"Hello, World!\"\n",
    "print(text)"
   ]
  },
  {
   "cell_type": "markdown",
   "metadata": {},
   "source": [
    "### ✅ 데이터 타입 예제  \n",
    "정수형,실수형,문자열,불리언,리스트,튜플,딕션너리,집합"
   ]
  },
  {
   "cell_type": "code",
   "execution_count": null,
   "metadata": {},
   "outputs": [],
   "source": [
    "# 정수형(int)\n",
    "num1 = 100\n",
    "print(f\"정수형: {num1}, 타입: {type(num1)}\")\n",
    "\n",
    "# 실수형(float)\n",
    "num2 = 3.14\n",
    "print(f\"실수형: {num2}, 타입: {type(num2)}\")\n",
    "\n",
    "# 문자열(str)\n",
    "text = \"안녕하세요\"\n",
    "print(f\"문자열: {text}, 타입: {type(text)}\")\n",
    "\n",
    "# 불리언(bool)\n",
    "is_python = True\n",
    "print(f\"불리언: {is_python}, 타입: {type(is_python)}\")\n",
    "\n",
    "# 리스트(list)\n",
    "numbers = [1, 2, 3, 4, 5]\n",
    "print(f\"리스트: {numbers}, 타입: {type(numbers)}\")\n",
    "\n",
    "# 튜플(tuple)\n",
    "coordinates = (10, 20)\n",
    "print(f\"튜플: {coordinates}, 타입: {type(coordinates)}\")\n",
    "\n",
    "# 딕셔너리(dict)\n",
    "student = {\"이름\": \"김철수\", \"나이\": 20, \"학년\": 2}\n",
    "print(f\"딕셔너리: {student}, 타입: {type(student)}\")\n",
    "\n",
    "# 집합(set)\n",
    "unique_chars = {\"a\", \"b\", \"c\", \"a\"}  # 중복된 'a'는 한 번만 저장됨\n",
    "print(f\"집합: {unique_chars}, 타입: {type(unique_chars)}\")"
   ]
  },
  {
   "cell_type": "markdown",
   "id": "arithmetic-operators",
   "metadata": {},
   "source": [
    "## 2.3 기본 연산자\n",
    "### ✅ 연산자란?\n",
    "연산자는 데이터를 처리하기 위한 기호입니다. \n",
    "파이썬은 다양한 종류의 연산자를 제공하여 데이터 처리를 용이하게 합니다.\n",
    "\n",
    "### ✅ 연산자의 종류\n",
    "1. 산술 연산자\n",
    "2. 비교 연산자\n",
    "3. 논리 연산자\n",
    "4. 할당 연산자\n",
    "\n",
    "| 연산자 | 설명 | 예제 |\n",
    "|--------|------|------|\n",
    "| `+` | 덧셈 | `a + b` |\n",
    "| `-` | 뺄셈 | `a - b` |\n",
    "| `*` | 곱셈 | `a * b` |\n",
    "| `/` | 나눗셈 | `a / b` |\n",
    "| `//` | 몫 | `a // b` |\n",
    "| `%` | 나머지 | `a % b` |\n",
    "| `**` | 거듭제곱 | `a ** b` |"
   ]
  },
  {
   "cell_type": "markdown",
   "id": "e8db6f3d",
   "metadata": {},
   "source": [
    "### ✅ 간단한 연산자 예제"
   ]
  },
  {
   "cell_type": "code",
   "execution_count": null,
   "id": "arithmetic-example",
   "metadata": {},
   "outputs": [],
   "source": [
    "x = 10\n",
    "y = 3\n",
    "\n",
    "print(x + y)  # 13\n",
    "print(x - y)  # 7\n",
    "print(x * y)  # 30\n",
    "print(x / y)  # 3.3333\n",
    "print(x // y)  # 3\n",
    "print(x % y)  # 1\n",
    "print(x ** y)  # 1000"
   ]
  },
  {
   "cell_type": "markdown",
   "id": "e66364bf",
   "metadata": {},
   "source": [
    "### ✅ 연산자 예제  \n",
    "산술,비교,논리 연산자"
   ]
  },
  {
   "cell_type": "code",
   "execution_count": null,
   "id": "87875299",
   "metadata": {},
   "outputs": [],
   "source": [
    "# 산술 연산자 예제\n",
    "a, b = 10, 3\n",
    "\n",
    "print(\"=== 산술 연산자 ===\")\n",
    "print(f\"덧셈: {a} + {b} = {a + b}\")\n",
    "print(f\"뺄셈: {a} - {b} = {a - b}\")\n",
    "print(f\"곱셈: {a} * {b} = {a * b}\")\n",
    "print(f\"나눗셈: {a} / {b} = {a / b}\")\n",
    "print(f\"몫: {a} // {b} = {a // b}\")\n",
    "print(f\"나머지: {a} % {b} = {a % b}\")\n",
    "print(f\"거듭제곱: {a} ** {b} = {a ** b}\")\n",
    "\n",
    "# 비교 연산자 예제\n",
    "print(\"\\n=== 비교 연산자 ===\")\n",
    "print(f\"{a} > {b}: {a > b}\")\n",
    "print(f\"{a} < {b}: {a < b}\")\n",
    "print(f\"{a} >= {b}: {a >= b}\")\n",
    "print(f\"{a} <= {b}: {a <= b}\")\n",
    "print(f\"{a} == {b}: {a == b}\")\n",
    "print(f\"{a} != {b}: {a != b}\")\n",
    "\n",
    "# 논리 연산자 예제\n",
    "x = True\n",
    "y = False\n",
    "\n",
    "print(\"\\n=== 논리 연산자 ===\")\n",
    "print(f\"and: {x} and {y} = {x and y}\")\n",
    "print(f\"or: {x} or {y} = {x or y}\")\n",
    "print(f\"not: not {x} = {not x}\")"
   ]
  },
  {
   "cell_type": "markdown",
   "id": "conditional-statements",
   "metadata": {},
   "source": [
    "## 2.4 조건문 (if, else, elif)\n",
    "### ✅ 조건문이란?\n",
    "조건문은 특정 조건이 **참(True)**이면 특정 코드를 실행하는 구조입니다.\n",
    "\n",
    "### ✅ if-else 구문\n",
    "기본적인 조건 분기를 처리합니다."
   ]
  },
  {
   "cell_type": "code",
   "execution_count": null,
   "id": "if-else-example",
   "metadata": {},
   "outputs": [],
   "source": [
    "age = 18\n",
    "\n",
    "if age >= 18:\n",
    "    print(\"성인입니다.\")\n",
    "else:\n",
    "    print(\"미성년자입니다.\")\n",
    "\n",
    "# elif 사용 예제\n",
    "score = 85\n",
    "\n",
    "if score >= 90:\n",
    "    print(\"A 학점\")\n",
    "elif score >= 80:\n",
    "    print(\"B 학점\")\n",
    "else:\n",
    "    print(\"C 학점\")"
   ]
  },
  {
   "cell_type": "markdown",
   "id": "loops-intro",
   "metadata": {},
   "source": [
    "## 2.5 반복문 (for, while)\n",
    "### ✅ for 반복문\n",
    "리스트, 튜플, 문자열 등 반복 가능한 객체에서 값을 하나씩 꺼내 반복 실행합니다.\n",
    "\n",
    "### ✅ while 반복문\n",
    "조건이 **참(True)**인 동안 반복 실행됩니다."
   ]
  },
  {
   "cell_type": "code",
   "execution_count": null,
   "id": "loops-example",
   "metadata": {},
   "outputs": [],
   "source": [
    "# for 반복문 예제\n",
    "print(\"for 반복문:\")\n",
    "for i in range(5):\n",
    "    print(i)\n",
    "\n",
    "# while 반복문 예제\n",
    "print(\"\\nwhile 반복문:\")\n",
    "count = 0\n",
    "while count < 5:\n",
    "    print(count)\n",
    "    count += 1\n",
    "\n",
    "# 리스트를 이용한 for 반복문\n",
    "print(\"\\n리스트 반복:\")\n",
    "fruits = [\"사과\", \"바나나\", \"체리\"]\n",
    "for fruit in fruits:\n",
    "    print(fruit)"
   ]
  },
  {
   "cell_type": "markdown",
   "id": "e2311377",
   "metadata": {},
   "source": [
    "## 2.6 함수 정의 및 사용\n",
    "### 2.6.1 함수란?\n",
    "함수(Function)는 특정 작업을 수행하는 코드 블록입니다.\n",
    "\n",
    "- 코드를 재사용할 수 있어 유지보수가 편리합니다.\n",
    "- 동일한 코드를 여러 번 작성할 필요 없이 호출하여 사용할 수 있습니다.\n",
    "\n",
    "### ✅ 함수 정의 및 호출\n",
    "파이썬에서는 def 키워드를 사용하여 함수를 정의할 수 있습니다."
   ]
  },
  {
   "cell_type": "code",
   "execution_count": null,
   "id": "e867e2b9",
   "metadata": {},
   "outputs": [],
   "source": [
    "# 함수 정의\n",
    "def greet():\n",
    "    print(\"안녕하세요! 파이썬을 시작해봅시다.\")\n",
    "\n",
    "# 함수 호출\n",
    "greet()"
   ]
  },
  {
   "cell_type": "markdown",
   "id": "6d56f7ac",
   "metadata": {},
   "source": [
    "### 2.6.2 매개변수 (Parameters)와 인수 (Arguments)\n",
    "함수에 매개변수(Parameter)를 전달하면, 다양한 값을 입력받아 실행할 수 있습니다."
   ]
  },
  {
   "cell_type": "code",
   "execution_count": null,
   "id": "99f8fe59",
   "metadata": {},
   "outputs": [],
   "source": [
    "# 매개변수가 있는 함수\n",
    "def greet(name):\n",
    "    print(f\"안녕하세요, {name}님!\")\n",
    "\n",
    "# 함수 호출 (인수 전달)\n",
    "greet(\"Alice\")\n",
    "greet(\"Bob\")"
   ]
  },
  {
   "cell_type": "markdown",
   "id": "9d7bb58f",
   "metadata": {},
   "source": [
    "### 2.6.3 반환값 (Return Value)\n",
    "함수에서 return 키워드를 사용하면 결과 값을 반환할 수 있습니다."
   ]
  },
  {
   "cell_type": "code",
   "execution_count": null,
   "id": "b58281ae",
   "metadata": {},
   "outputs": [],
   "source": [
    "# 두 수의 합을 반환하는 함수\n",
    "def add(a, b):\n",
    "    return a + b\n",
    "\n",
    "# 함수 호출\n",
    "result = add(3, 5)\n",
    "print(f\"결과: {result}\")"
   ]
  },
  {
   "cell_type": "markdown",
   "id": "efb53de3",
   "metadata": {},
   "source": [
    "### 2.6.4 기본값 매개변수 (Default Parameters)\n",
    "매개변수에 기본값을 설정하면, 함수를 호출할 때 인수를 생략할 수 있습니다."
   ]
  },
  {
   "cell_type": "code",
   "execution_count": null,
   "id": "efe0c35b",
   "metadata": {},
   "outputs": [],
   "source": [
    "def greet(name=\"Guest\"):\n",
    "    print(f\"안녕하세요, {name}님!\")\n",
    "\n",
    "greet()  # 기본값 사용\n",
    "greet(\"Alice\")  # 새로운 값 전달"
   ]
  },
  {
   "cell_type": "markdown",
   "id": "4cceabff",
   "metadata": {},
   "source": [
    "### 2.6.5 가변 매개변수 (*args)\n",
    "가변 매개변수를 사용하면 여러 개의 값을 함수에 전달할 수 있습니다."
   ]
  },
  {
   "cell_type": "code",
   "execution_count": null,
   "id": "cbca4dbf",
   "metadata": {},
   "outputs": [],
   "source": [
    "# 여러 개의 숫자를 더하는 함수\n",
    "def add_numbers(*args):\n",
    "    return sum(args)\n",
    "\n",
    "# 함수 호출\n",
    "print(add_numbers(1, 2, 3))  # 6\n",
    "print(add_numbers(10, 20, 30, 40))  # 100"
   ]
  },
  {
   "cell_type": "markdown",
   "id": "be28b4d7",
   "metadata": {},
   "source": [
    "### 2.6.6 키워드 인수 (**kwargs)\n",
    "키워드 인수를 사용하면 매개변수를 딕셔너리 형태로 받을 수 있습니다."
   ]
  },
  {
   "cell_type": "code",
   "execution_count": null,
   "id": "d6b6abc8",
   "metadata": {},
   "outputs": [],
   "source": [
    "def introduce(**kwargs):\n",
    "    for key, value in kwargs.items():\n",
    "        print(f\"{key}: {value}\")\n",
    "\n",
    "introduce(name=\"Alice\", age=25, city=\"Seoul\")"
   ]
  },
  {
   "cell_type": "markdown",
   "id": "82862b08",
   "metadata": {},
   "source": [
    "### 2.6.7 람다 함수 (Lambda Function)\n",
    "람다 함수는 한 줄로 작성할 수 있는 익명 함수입니다.\n",
    "\n",
    "- 일반적인 함수보다 짧고 간결한 코드를 작성할 수 있습니다.\n",
    "- lambda 키워드를 사용하여 정의합니다."
   ]
  },
  {
   "cell_type": "code",
   "execution_count": null,
   "id": "60b5cb5b",
   "metadata": {},
   "outputs": [],
   "source": [
    "# 일반 함수\n",
    "def square(x):\n",
    "    return x ** 2\n",
    "\n",
    "# 람다 함수\n",
    "square_lambda = lambda x: x ** 2\n",
    "\n",
    "# 함수 호출\n",
    "print(square(5))  # 25\n",
    "print(square_lambda(5))  # 25"
   ]
  },
  {
   "cell_type": "markdown",
   "id": "7cdaed8a",
   "metadata": {},
   "source": [
    "## 🎯 실습 문제"
   ]
  },
  {
   "cell_type": "markdown",
   "id": "ebb66641",
   "metadata": {},
   "source": [
    "### 1. 두 수의 곱을 반환하는 함수\n",
    "두 개의 숫자를 입력받아 곱한 결과를 반환하는 함수를 작성하세요.\n",
    "\n",
    "요구사항:\n",
    "- 함수 이름: multiply\n",
    "- 두 개의 매개변수 사용\n",
    "- 정수와 실수 모두 처리 가능\n",
    "- 결과 값 반환"
   ]
  },
  {
   "cell_type": "code",
   "execution_count": null,
   "id": "15705dbb",
   "metadata": {},
   "outputs": [],
   "source": [
    "def multiply(a, b):\n",
    "    return a * b\n",
    "\n",
    "# 테스트\n",
    "print(\"=== 두 수의 곱 계산 프로그램 ===\\n\")\n",
    "print(f\"3 * 4 = {multiply(3, 4)}\")\n",
    "print(f\"2.5 * 4 = {multiply(2.5, 4)}\")\n",
    "\n",
    "# 사용자 입력 테스트\n",
    "try:\n",
    "    num1 = float(input(\"첫 번째 숫자를 입력하세요: \"))\n",
    "    num2 = float(input(\"두 번째 숫자를 입력하세요: \"))\n",
    "    print(f\"결과: {num1} * {num2} = {multiply(num1, num2)}\")\n",
    "except ValueError:\n",
    "    print(\"올바른 숫자를 입력해주세요.\")"
   ]
  },
  {
   "cell_type": "markdown",
   "id": "1f4b4a24",
   "metadata": {},
   "source": [
    "###  2. 여러 개의 숫자 합계 구하기\n",
    "가변 인자를 사용하여 여러 숫자의 합을 계산하는 함수를 작성하세요.\n",
    "\n",
    "요구사항:\n",
    "- 함수 이름: sum_numbers\n",
    "- 가변 인자(*args) 사용\n",
    "- 입력된 모든 숫자의 합계 반환\n",
    "- 숫자가 없는 경우 0 반환"
   ]
  },
  {
   "cell_type": "code",
   "execution_count": null,
   "id": "acefb865",
   "metadata": {},
   "outputs": [],
   "source": [
    "def sum_numbers(*args):\n",
    "    return sum(args)\n",
    "\n",
    "# 테스트\n",
    "print(\"=== 여러 숫자의 합계 계산 프로그램 ===\\n\")\n",
    "print(f\"1, 2, 3의 합: {sum_numbers(1, 2, 3)}\")\n",
    "print(f\"10, 20, 30, 40의 합: {sum_numbers(10, 20, 30, 40)}\")\n",
    "print(f\"인자가 없는 경우: {sum_numbers()}\")\n",
    "\n",
    "# 사용자 입력 테스트\n",
    "try:\n",
    "    numbers = [float(x) for x in input(\"숫자들을 공백으로 구분하여 입력하세요: \").split()]\n",
    "    print(f\"입력한 숫자들의 합: {sum_numbers(*numbers)}\")\n",
    "except ValueError:\n",
    "    print(\"올바른 숫자를 입력해주세요.\")"
   ]
  },
  {
   "cell_type": "markdown",
   "id": "3b1b7a49",
   "metadata": {},
   "source": [
    "###  3. 세제곱 계산 람다 함수\n",
    "lambda를 사용하여 세제곱을 계산하는 함수를 작성하세요.\n",
    "\n",
    "요구사항:\n",
    "- lambda 표현식 사용\n",
    "- 한 줄로 작성\n",
    "- 세제곱 값 반환"
   ]
  },
  {
   "cell_type": "code",
   "execution_count": null,
   "id": "84293bbc",
   "metadata": {},
   "outputs": [],
   "source": [
    "cube = lambda x: x ** 3\n",
    "\n",
    "# 테스트\n",
    "print(\"=== 세제곱 계산 프로그램 ===\\n\")\n",
    "print(f\"3의 세제곱: {cube(3)}\")\n",
    "print(f\"4의 세제곱: {cube(4)}\")\n",
    "\n",
    "# 사용자 입력 테스트\n",
    "try:\n",
    "    num = float(input(\"\\n숫자를 입력하세요: \"))\n",
    "    print(f\"{num}의 세제곱: {cube(num)}\")\n",
    "except ValueError:\n",
    "    print(\"올바른 숫자를 입력해주세요.\")"
   ]
  },
  {
   "cell_type": "markdown",
   "id": "c823dfaf",
   "metadata": {},
   "source": [
    "###  4. 학점 계산 프로그램\n",
    "점수를 입력받아 학점을 출력하는 프로그램을 작성하세요.\n",
    "\n",
    "요구사항:\n",
    "- 90점 이상: A\n",
    "- 80점 이상: B\n",
    "- 70점 이상: C\n",
    "- 60점 이상: D\n",
    "- 60점 미만: F"
   ]
  },
  {
   "cell_type": "code",
   "execution_count": null,
   "id": "2c6a03b1",
   "metadata": {},
   "outputs": [],
   "source": [
    "def get_grade(score):\n",
    "    if score >= 90:\n",
    "        return 'A'\n",
    "    elif score >= 80:\n",
    "        return 'B'\n",
    "    elif score >= 70:\n",
    "        return 'C'\n",
    "    elif score >= 60:\n",
    "        return 'D'\n",
    "    else:\n",
    "        return 'F'\n",
    "\n",
    "# 테스트\n",
    "print(\"=== 학점 계산 프로그램 ===\\n\")\n",
    "\n",
    "try:\n",
    "    score = float(input(\"점수를 입력하세요 (0-100): \"))\n",
    "    if 0 <= score <= 100:\n",
    "        grade = get_grade(score)\n",
    "        print(f\"점수: {score}점\")\n",
    "        print(f\"학점: {grade}\")\n",
    "    else:\n",
    "        print(\"0에서 100 사이의 점수를 입력해주세요.\")\n",
    "except ValueError:\n",
    "    print(\"올바른 숫자를 입력해주세요.\")"
   ]
  },
  {
   "cell_type": "markdown",
   "id": "497d14bd",
   "metadata": {},
   "source": [
    "### 5. 짝수 출력 프로그램\n",
    "1부터 100까지의 숫자 중 짝수만 출력하는 프로그램을 작성하세요.\n",
    "\n",
    "요구사항:\n",
    "- for 문 사용\n",
    "- range() 함수 활용\n",
    "- 짝수 판별 로직 구현"
   ]
  },
  {
   "cell_type": "code",
   "execution_count": null,
   "id": "8945c82a",
   "metadata": {},
   "outputs": [],
   "source": [
    "print(\"=== 1부터 100까지의 짝수 출력 프로그램 ===\\n\")\n",
    "\n",
    "print(\"짝수 목록:\")\n",
    "for i in range(2, 101, 2):\n",
    "    print(i, end=\" \")\n",
    "\n",
    "# 통계 정보\n",
    "even_count = len(range(2, 101, 2))\n",
    "print(f\"\\n\\n총 짝수의 개수: {even_count}개\")\n",
    "print(f\"짝수들의 합: {sum(range(2, 101, 2))}\")"
   ]
  },
  {
   "cell_type": "markdown",
   "id": "bd5af17b",
   "metadata": {},
   "source": [
    "### 6. 최대값 찾기 프로그램\n",
    "리스트에서 가장 큰 수를 찾는 프로그램을 작성하세요.\n",
    "\n",
    "요구사항:\n",
    "- 빈 리스트 처리\n",
    "- 최대값 찾기\n",
    "- 결과 출력"
   ]
  },
  {
   "cell_type": "code",
   "execution_count": null,
   "id": "9e56f049",
   "metadata": {},
   "outputs": [],
   "source": [
    "def find_max(numbers):\n",
    "    if not numbers:  # 빈 리스트 체크\n",
    "        return None\n",
    "    return max(numbers)\n",
    "\n",
    "# 테스트\n",
    "print(\"=== 최대값 찾기 프로그램 ===\\n\")\n",
    "\n",
    "# 테스트 케이스\n",
    "test_list = [17, 92, 18, 33, 58, 7, 33, 42]\n",
    "print(f\"리스트: {test_list}\")\n",
    "max_num = find_max(test_list)\n",
    "print(f\"최대값: {max_num}\")\n",
    "\n",
    "# 사용자 입력 테스트\n",
    "try:\n",
    "    numbers = [float(x) for x in input(\"\\n숫자들을 공백으로 구분하여 입력하세요: \").split()]\n",
    "    result = find_max(numbers)\n",
    "    if result is not None:\n",
    "        print(f\"입력한 숫자들 중 최대값: {result}\")\n",
    "    else:\n",
    "        print(\"숫자를 입력해주세요.\")\n",
    "except ValueError:\n",
    "    print(\"올바른 숫자를 입력해주세요.\")"
   ]
  },
  {
   "cell_type": "markdown",
   "id": "chapter-summary",
   "metadata": {},
   "source": [
    "## 📌 2장 요약\n",
    "✅ 변수는 데이터를 저장하는 공간이며, 타입 선언이 필요 없음  \n",
    "✅ 문자열은 작은따옴표(') 또는 큰따옴표(\")로 감쌀 수 있음  \n",
    "✅ 리스트(list)는 수정 가능, 튜플(tuple)은 수정 불가능  \n",
    "✅ if-else를 사용하여 조건문 작성 가능  \n",
    "✅ for, while을 사용하여 반복문을 작성할 수 있음  \n"
   ]
  }
 ],
 "metadata": {
  "kernelspec": {
   "display_name": "Python 3",
   "language": "python",
   "name": "python3"
  },
  "language_info": {
   "codemirror_mode": {
    "name": "ipython",
    "version": 3
   },
   "file_extension": ".py",
   "mimetype": "text/x-python",
   "name": "python",
   "nbconvert_exporter": "python",
   "pygments_lexer": "ipython3",
   "version": "3.8.10"
  }
 },
 "nbformat": 4,
 "nbformat_minor": 5
}
