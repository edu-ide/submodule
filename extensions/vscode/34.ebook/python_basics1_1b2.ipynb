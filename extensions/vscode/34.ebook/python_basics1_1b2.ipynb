{
 "cells": [
  {
   "cell_type": "markdown",
   "id": "3d4848cf",
   "metadata": {},
   "source": [
    "# 📘 1권 1장: 파이썬 소개 및 설치"
   ]
  },
  {
   "cell_type": "markdown",
   "id": "d6b9c5c2",
   "metadata": {
    "jp-MarkdownHeadingCollapsed": true
   },
   "source": [
    "\n",
    "## 📌 목차  \n",
    "1.1 파이썬이란?  \n",
    "1.2 파이썬 설치 및 개발 환경 설정  \n",
    "1.3 파이썬 인터프리터와 기본 명령어  \n",
    "1.4 Jupyter Notebook 설치  \n",
    "1.5 파이썬 기본 문법  \n",
    "1.6 데이터 구조 (리스트, 튜플, 딕셔너리 등)  \n",
    "1.7 입출력 및 파일 처리  "
   ]
  },
  {
   "cell_type": "markdown",
   "id": "4b97cd1e",
   "metadata": {},
   "source": [
    "## 1.1 파이썬이란?"
   ]
  },
  {
   "cell_type": "markdown",
   "id": "01b77a57",
   "metadata": {
    "jp-MarkdownHeadingCollapsed": true
   },
   "source": [
    "\n",
    "### ✅ 파이썬 개요  \n",
    "파이썬(Python)은 **1991년 네덜란드 프로그래머 \"귀도 반 로섬(Guido van Rossum)\"**이 개발한 프로그래밍 언어입니다.  \n",
    "현재 파이썬은 웹 개발, 데이터 분석, 인공지능(AI), 머신러닝, 자동화, 임베디드 시스템 등 다양한 분야에서 널리 사용되고 있습니다.  \n",
    "\n",
    "### ✅ 파이썬의 주요 특징  \n",
    "✔ 문법이 간결하고 가독성이 뛰어남  \n",
    "✔ C, C++, Java 등 다양한 언어와 쉽게 연동 가능  \n",
    "✔ 강력한 표준 라이브러리 및 서드파티 라이브러리 지원  \n",
    "✔ Windows, macOS, Linux 등 다양한 운영체제에서 실행 가능  \n",
    "✔ 인터프리터 방식으로 실행되며, 동적 타입(변수 선언 불필요)  \n",
    "✔ 웹 개발, 데이터 분석, 머신러닝 등 다양한 분야에서 활용 가능  \n",
    "\n",
    "### ✅ 파이썬이 사용되는 대표적인 분야  \n",
    "- 🔹 **웹 개발**: Django, Flask 프레임워크를 활용한 웹 애플리케이션 개발  \n",
    "- 🔹 **데이터 분석**: Pandas, NumPy, Matplotlib을 활용한 데이터 처리 및 시각화  \n",
    "- 🔹 **머신러닝 & AI**: TensorFlow, PyTorch를 활용한 인공지능 모델 개발  \n",
    "- 🔹 **자동화 스크립트**: 업무 자동화, 웹 크롤링, 시스템 관리 등  \n",
    "- 🔹 **임베디드 시스템**: Raspberry Pi, IoT 기기 개발  \n",
    "- 🔹 **게임 개발**: Pygame을 활용한 게임 제작  \n"
   ]
  },
  {
   "cell_type": "markdown",
   "id": "fafe0018",
   "metadata": {},
   "source": [
    "## 1.2 파이썬 설치 및 개발 환경 설정"
   ]
  },
  {
   "cell_type": "markdown",
   "id": "64251532",
   "metadata": {},
   "source": [
    "\n",
    "### ✅ 파이썬 다운로드 및 설치  \n",
    "1️⃣ **[Python 공식 홈페이지](https://www.python.org/downloads/)** 에 접속  \n",
    "2️⃣ 다운로드 페이지에서 **최신 버전의 파이썬(Python 3.x)**을 다운로드  \n",
    "3️⃣ 설치 진행 중 **\"Add Python to PATH\"** 옵션을 반드시 체크  \n",
    "4️⃣ 설치가 완료되면 **명령 프롬프트(Windows) 또는 터미널(macOS/Linux)**에서 아래 명령어로 확인  \n",
    "\n",
    "## 1.2.1파이썬이란?\n",
    "파이썬은 쉬운 문법과 강력한 기능을 가진 프로그래밍 언어입니다.\n",
    "\n",
    "1. `Windows + R` 키를 눌러 `cmd` 입력 후 엔터 (명령 프롬프트 실행)\n",
    "2. 다음 명령어 입력 후 엔터:\n",
    "\n",
    "```bash\n",
    "python --version\n",
    "```\n",
    "또는\n",
    "```bash\n",
    "python3 --version\n",
    "```\n",
    "\n",
    "✅ Python 버전이 출력되면 이미 설치됨  \n",
    "❌ python is not recognized` 오류 발생 시 Python을 설치해야 함\n",
    "\n",
    "\n",
    "✅ pip가 설치되어 있는지 확인\n",
    "```bash\n",
    "pip --version\n",
    "```\n",
    "\n",
    "✅ `pip 23.x.x from ...` 과 같은 결과가 나오면 설치됨  \n",
    "❌ 오류 발생 시 pip 설치 필요 → 다음 명령어 실행:\n",
    "\n",
    "```bash\n",
    "python -m ensurepip --default-pip\n",
    "```\n",
    "## 1.2.2파이썬 설치\n",
    "다음 명령어를 실행하여 파이썬을 설치할 수 있습니다.\n",
    "\n",
    "```bash\n",
    "pip install python\n",
    "```\n",
    "\n",
    "## 1.2.3파이썬 버전 확인\n",
    "다음 명령어를 실행하여 파이썬버전을 확인할수 있습니다.\n",
    "```bash\n",
    "python --version\n",
    "```\n",
    "\n",
    "✅ **출력 예시 (설치가 정상적으로 완료된 경우)**  \n",
    "```bash\n",
    "Python 3.10.4\n",
    "```\n",
    "\n",
    "✔ 정상적으로 버전이 출력되면 파이썬이 성공적으로 설치된 것입니다!  \n"
   ]
  },
  {
   "cell_type": "markdown",
   "id": "a7aabab3",
   "metadata": {},
   "source": [
    "## 1.3 파이썬 인터프리터와 기본 명령어"
   ]
  },
  {
   "cell_type": "markdown",
   "id": "1964d89d",
   "metadata": {},
   "source": [
    "\n",
    "### ✅ 파이썬 인터프리터 실행하기  \n",
    "설치가 완료되었다면, **파이썬 인터프리터(Python Shell)**를 실행할 수 있습니다.  \n",
    "\n",
    "🖥 **Windows**: `cmd(명령 프롬프트)`에서 실행  \n",
    "🖥 **macOS/Linux**: `Terminal`에서 실행  \n",
    "### >python\n",
    "\n",
    "\n",
    "실행하면 아래와 같은 파이썬 인터프리터 화면이 표시됩니다.  \n",
    "\n",
    "```python\n",
    "Python 3.10.4 (default, Apr 19 2023, 18:14:58)\n",
    "[GCC 11.2.0] on linux\n",
    "Type \"help\", \"copyright\", \"credits\" or \"license\" for more information.\n",
    ">>>\n",
    "```\n",
    "\n",
    "이제 간단한 명령어를 입력해 봅시다!  \n"
   ]
  },
  {
   "cell_type": "code",
   "execution_count": 8,
   "id": "1c0f2726",
   "metadata": {},
   "outputs": [
    {
     "name": "stdout",
     "output_type": "stream",
     "text": [
      "Hello, Python!\n",
      "Alice\n"
     ]
    }
   ],
   "source": [
    "\n",
    "# 기본적인 파이썬 명령어 실행\n",
    "print(\"Hello, Python!\")  # 문자열 출력\n",
    "\n",
    "2 + 3  # 덧셈 연산\n",
    "\n",
    "10 / 2  # 나눗셈 연산\n",
    "\n",
    "# 변수 선언\n",
    "name = \"Alice\"\n",
    "print(name)\n"
   ]
  },
  {
   "cell_type": "markdown",
   "id": "062e5e6f",
   "metadata": {},
   "source": [
    "✅CMD(명령 프롬프트)에서 실행  \n",
    "아래내용의 hi.py를 메모장에서 만들고 저장  "
   ]
  },
  {
   "cell_type": "code",
   "execution_count": 11,
   "id": "eec0dea8",
   "metadata": {},
   "outputs": [
    {
     "name": "stdout",
     "output_type": "stream",
     "text": [
      "Hello, Python!\n",
      "3.12.6 (tags/v3.12.6:a4a2d2b, Sep  6 2024, 20:11:23) [MSC v.1940 64 bit (AMD64)]\n"
     ]
    }
   ],
   "source": [
    "# 파일명 hi.py\n",
    "# 설치된 파이썬 버전 확인\n",
    "print(\"Hello, Python!\")\n",
    "import sys\n",
    "print(sys.version)"
   ]
  },
  {
   "cell_type": "markdown",
   "id": "e0551617-4d7b-4a22-a3a6-70ac01840e8d",
   "metadata": {},
   "source": [
    "### >python hi.py\n",
    "실행시  \n",
    "Hello, Python!  \n",
    "3.xx.xx\n",
    "표시됨"
   ]
  },
  {
   "cell_type": "markdown",
   "id": "90fd80d4",
   "metadata": {},
   "source": [
    "## 1.4 Jupyter Notebook 설치"
   ]
  },
  {
   "cell_type": "markdown",
   "id": "87f2d567",
   "metadata": {},
   "source": [
    "\n",
    "### 1. 명령 프롬프트(cmd) 또는 PowerShell 실행\n",
    "### 2. 다음 명령어 입력 후 엔터:\n",
    "```bash\n",
    "pip install notebook\n",
    "```\n",
    "\n",
    "✅ 설치 완료 후 확인:\n",
    "```bash\n",
    "jupyter --version\n",
    "```\n",
    "✅ 정상적인 결과 예시:\n",
    "```yaml\n",
    "jupyter core     : 4.x.x\n",
    "jupyter-notebook : 6.x.x\n",
    "jupyter client   : 7.x.x\n",
    "```\n",
    "### 3. Jupyter Notebook 실행하기\n",
    "✅ 실행 방법\n",
    "```bash\n",
    "jupyter notebook\n",
    "```\n",
    "📌 실행하면 기본 웹 브라우저에서 **Jupyter Notebook**이 자동으로 열립니다.  \n",
    "만약 브라우저가 열리지 않으면, 아래 주소를 직접 입력하여 접근할 수 있습니다.  \n",
    "- `localhost:8888`\n",
    "- `http://127.0.0.1:8888`\n",
    "- `http://localhost:8888/tree`\n",
    "\n",
    "### 4. 가상환경에서 Jupyter Notebook 사용 (선택 사항)\n",
    "   \n",
    "💡 **여러 프로젝트를 관리하려면 가상환경을 사용하는 것이 좋습니다.**\n",
    "\n",
    "✅ 가상환경 만들기\n",
    "```bash\n",
    "python -m venv myenv\n",
    "```\n",
    "\n",
    "✅ 가상환경 활성화\n",
    "```bash\n",
    "myenv\\Scripts\\activate\n",
    "```\n",
    "\n",
    "✅ 가상환경에 Jupyter 설치\n",
    "```bash\n",
    "pip install notebook\n",
    "```\n",
    "\n",
    "✅ 가상환경에서 Jupyter 실행\n",
    "```bash\n",
    "jupyter notebook\n",
    "```\n",
    "### 5. Jupyter Notebook 기본 사용법\n",
    "\n",
    "✅ 새로운 노트북 생성\n",
    "1. **Jupyter Notebook 실행**\n",
    "2. **브라우저에서 `New → Python 3` 클릭**\n",
    "3. **새로운 노트북(`.ipynb`) 파일이 생성됨**\n",
    "\n",
    "✅ 첫 번째 코드 실행\n",
    "코드 셀에 다음 입력 후 `Shift + Enter` 실행:\n",
    "```python\n",
    "print(\"Hello, Jupyter!\")\n",
    "```\n",
    "✅ 출력:\n",
    "```\n",
    "Hello, Jupyter!\n",
    "```\n",
    "### 6. Jupyter Notebook 제거 방법 (필요할 경우)\n",
    "\n",
    "Jupyter를 제거하고 싶다면 다음 명령어 실행:\n",
    "```bash\n",
    "pip uninstall notebook\n",
    "```\n",
    "✅ **삭제 후 `jupyter --version`을 입력했을 때 오류가 나오면 완전히 삭제된 것임**\n",
    "\n",
    "### 7. 문제 해결 (에러 발생 시)\n",
    "\n",
    "✅ `jupyter: command not found` 또는 `jupyter is not recognized` 오류 해결\n",
    "```bash\n",
    "python -m notebook\n",
    "```\n",
    "또는\n",
    "```bash\n",
    "python -m pip install --upgrade notebook\n",
    "```\n",
    "\n",
    "✅ Jupyter Notebook이 실행되지 않는 경우\n",
    "1. `Ctrl + C`로 서버 종료 후 다시 실행\n",
    "2. 브라우저가 자동으로 열리지 않으면 **`http://127.0.0.1:8888`** 직접 입력\n"
   ]
  },
  {
   "cell_type": "markdown",
   "id": "62611fd1",
   "metadata": {},
   "source": [
    "## 1.5 파이썬 기본 문법\n",
    "\n",
    "### 📌 1.5.1 변수와 데이터 타입  \n",
    "변수는 데이터를 저장하는 공간이며, 다양한 데이터 타입을 가질 수 있습니다.  \n",
    "✔ `int` (정수), `float` (실수), `str` (문자열), `bool` (참/거짓)  \n",
    "✔ `type()` 함수를 사용하여 변수의 타입을 확인 가능  "
   ]
  },
  {
   "cell_type": "code",
   "execution_count": null,
   "id": "f0826284",
   "metadata": {},
   "outputs": [],
   "source": [
    "# 기본 데이터 타입 예제\n",
    "name = \"홍길동\"        # 문자열(str)\n",
    "age = 25              # 정수(int)\n",
    "height = 175.5        # 실수(float)\n",
    "is_student = True     # 불리언(bool)\n",
    "\n",
    "# 데이터 타입 확인\n",
    "print(f\"name의 타입: {type(name)}\")\n",
    "print(f\"age의 타입: {type(age)}\")\n",
    "print(f\"height의 타입: {type(height)}\")\n",
    "print(f\"is_student의 타입: {type(is_student)}\")"
   ]
  },
  {
   "cell_type": "markdown",
   "id": "markdown-operators-intro",
   "metadata": {},
   "source": [
    "### 📌 1.5.2 연산자\n",
    "\n",
    "파이썬에서는 다양한 연산자를 제공합니다:\n",
    "\n",
    "1. **산술 연산자**\n",
    "   - `+` : 덧셈\n",
    "   - `-` : 뺄셈\n",
    "   - `*` : 곱셈\n",
    "   - `/` : 나눗셈 (실수 결과)\n",
    "   - `//` : 몫 (정수 나눗셈)\n",
    "   - `%` : 나머지\n",
    "   - `**` : 거듭제곱\n",
    "\n",
    "2. **비교 연산자**\n",
    "   - `>` : 크다\n",
    "   - `<` : 작다\n",
    "   - `>=` : 크거나 같다\n",
    "   - `<=` : 작거나 같다\n",
    "   - `==` : 같다\n",
    "   - `!=` : 같지 않다\n",
    "\n",
    "3. **논리 연산자**\n",
    "   - `and` : 논리곱 (둘 다 참일 때 참)\n",
    "   - `or` : 논리합 (하나라도 참이면 참)\n",
    "   - `not` : 논리 부정\n",
    "\n",
    "4. **할당 연산자**\n",
    "   - `=` : 기본 할당\n",
    "   - `+=` : 더하기 후 할당\n",
    "   - `-=` : 빼기 후 할당\n",
    "   - `*=` : 곱하기 후 할당\n",
    "   - `/=` : 나누기 후 할당\n",
    "\n",
    "5. **멤버십 연산자**\n",
    "   - `in` : 포함 여부 확인\n",
    "   - `not in` : 비포함 여부 확인"
   ]
  },
  {
   "cell_type": "code",
   "execution_count": 2,
   "id": "code-arithmetic-operators",
   "metadata": {},
   "outputs": [
    {
     "name": "stdout",
     "output_type": "stream",
     "text": [
      "=== 산술 연산자 ===\n",
      "덧셈: 13\n",
      "뺄셈: 7\n",
      "곱셈: 30\n",
      "나눗셈: 3.3333333333333335\n",
      "몫: 3\n",
      "나머지: 1\n",
      "제곱: 1000\n"
     ]
    }
   ],
   "source": [
    "# 산술 연산자 예제\n",
    "print(\"=== 산술 연산자 ===\")\n",
    "a = 10\n",
    "b = 3\n",
    "\n",
    "print(f\"덧셈: {a + b}\")       # 13\n",
    "print(f\"뺄셈: {a - b}\")       # 7\n",
    "print(f\"곱셈: {a * b}\")       # 30\n",
    "print(f\"나눗셈: {a / b}\")     # 3.3333...\n",
    "print(f\"몫: {a // b}\")        # 3\n",
    "print(f\"나머지: {a % b}\")     # 1\n",
    "print(f\"제곱: {a ** b}\")      # 1000"
   ]
  },
  {
   "cell_type": "code",
   "execution_count": 3,
   "id": "code-logical-operators",
   "metadata": {},
   "outputs": [
    {
     "name": "stdout",
     "output_type": "stream",
     "text": [
      "=== 논리 연산자 ===\n",
      "True and True = True\n",
      "True and False = False\n",
      "True or False = True\n",
      "not True = False\n"
     ]
    }
   ],
   "source": [
    "# 논리 연산자 예제\n",
    "print(\"=== 논리 연산자 ===\")\n",
    "x = True\n",
    "y = False\n",
    "\n",
    "print(f\"True and True = {x and x}\")\n",
    "print(f\"True and False = {x and y}\")\n",
    "print(f\"True or False = {x or y}\")\n",
    "print(f\"not True = {not x}\")"
   ]
  },
  {
   "cell_type": "code",
   "execution_count": 4,
   "id": "code-assignment-operators",
   "metadata": {},
   "outputs": [
    {
     "name": "stdout",
     "output_type": "stream",
     "text": [
      "=== 할당 연산자 ===\n",
      "초기값: 10\n",
      "+= 후: 15\n",
      "-= 후: 10\n",
      "*= 후: 20\n",
      "/= 후: 10.0\n"
     ]
    }
   ],
   "source": [
    "# 할당 연산자 예제\n",
    "print(\"=== 할당 연산자 ===\")\n",
    "num = 10\n",
    "print(f\"초기값: {num}\")\n",
    "\n",
    "num += 5  # num = num + 5\n",
    "print(f\"+= 후: {num}\")\n",
    "\n",
    "num -= 5  # num = num - 5\n",
    "print(f\"-= 후: {num}\")\n",
    "\n",
    "num *= 2  # num = num * 2\n",
    "print(f\"*= 후: {num}\")\n",
    "\n",
    "num /= 2  # num = num / 2\n",
    "print(f\"/= 후: {num}\")"
   ]
  },
  {
   "cell_type": "code",
   "execution_count": 5,
   "id": "code-membership-operators",
   "metadata": {},
   "outputs": [
    {
     "name": "stdout",
     "output_type": "stream",
     "text": [
      "=== 멤버십 연산자 ===\n",
      "'사과'가 리스트에 있나요? True\n",
      "'망고'가 리스트에 없나요? True\n",
      "'Python'에 'th'가 있나요? True\n"
     ]
    }
   ],
   "source": [
    "# 멤버십 연산자 예제\n",
    "print(\"=== 멤버십 연산자 ===\")\n",
    "fruits = [\"사과\", \"바나나\", \"딸기\"]\n",
    "text = \"Python\"\n",
    "\n",
    "print(f\"'사과'가 리스트에 있나요? {'사과' in fruits}\")\n",
    "print(f\"'망고'가 리스트에 없나요? {'망고' not in fruits}\")\n",
    "print(f\"'Python'에 'th'가 있나요? {'th' in text}\")"
   ]
  },
  {
   "cell_type": "markdown",
   "id": "d374ef03",
   "metadata": {},
   "source": [
    "### 📌 1.5.3 조건문  \n",
    "✔ `if` 문은 조건이 참일 때 실행됨  \n",
    "✔ `elif` 문을 사용하여 여러 조건을 추가 가능  \n",
    "✔ `else` 문은 모든 조건이 거짓일 때 실행됨  "
   ]
  },
  {
   "cell_type": "code",
   "execution_count": null,
   "id": "c08c4b49",
   "metadata": {},
   "outputs": [],
   "source": [
    "# if-elif-else 예제\n",
    "score = 85\n",
    "\n",
    "if score >= 90:\n",
    "    grade = \"A\"\n",
    "elif score >= 80:\n",
    "    grade = \"B\"\n",
    "elif score >= 70:\n",
    "    grade = \"C\"\n",
    "else:\n",
    "    grade = \"D\"\n",
    "\n",
    "print(f\"점수: {score}, 학점: {grade}\")"
   ]
  },
  {
   "cell_type": "code",
   "execution_count": null,
   "id": "70ee43da",
   "metadata": {},
   "outputs": [],
   "source": [
    "# 중첩 조건문\n",
    "age = 20\n",
    "has_id = True\n",
    "\n",
    "if age >= 19:\n",
    "    if has_id:\n",
    "        print(\"입장 가능합니다.\")\n",
    "    else:\n",
    "        print(\"신분증을 지참해주세요.\")\n",
    "else:\n",
    "    print(\"미성년자는 입장할 수 없습니다.\")"
   ]
  },
  {
   "cell_type": "markdown",
   "id": "7b5d8872",
   "metadata": {},
   "source": [
    "### 📌 1.5.4 반복문  \n",
    "반복문을 사용하면 동일한 작업을 여러 번 실행할 수 있습니다.  \n",
    "✔ `for` 문은 특정 범위의 값을 반복  \n",
    "✔ `while` 문은 조건이 참인 동안 반복  "
   ]
  },
  {
   "cell_type": "code",
   "execution_count": null,
   "id": "d6989667",
   "metadata": {},
   "outputs": [],
   "source": [
    "# for 반복문 - range()\n",
    "print(\"for 반복문 - range()\")\n",
    "for i in range(5):  # 0부터 4까지\n",
    "    print(f\"반복 {i}\")\n",
    "\n",
    "# 리스트 순회\n",
    "fruits = [\"사과\", \"바나나\", \"딸기\"]\n",
    "print(\"\\nfor 반복문 - 리스트 순회\")\n",
    "for fruit in fruits:\n",
    "    print(fruit)\n",
    "    \n",
    "# while 반복문\n",
    "count = 0\n",
    "while count < 3:\n",
    "    print(f\"현재 카운트: {count}\")\n",
    "    count += 1"
   ]
  },
  {
   "cell_type": "markdown",
   "id": "markdown-data-structures",
   "metadata": {},
   "source": [
    "## 1.6 데이터 구조 (Data Structures)\n",
    "\n",
    "파이썬의 주요 데이터 구조들을 살펴보겠습니다:\n",
    "\n",
    "1. **리스트 (List)**\n",
    "   - 순서가 있는 수정 가능한 시퀀스\n",
    "   - 대괄호 `[]`로 생성\n",
    "   - 다양한 타입의 요소를 담을 수 있음\n",
    "\n",
    "2. **튜플 (Tuple)**\n",
    "   - 순서가 있는 수정 불가능한 시퀀스\n",
    "   - 소괄호 `()`로 생성\n",
    "   - 읽기 전용 데이터에 사용\n",
    "\n",
    "3. **딕셔너리 (Dictionary)**\n",
    "   - 키-값 쌍을 저장\n",
    "   - 중괄호 `{}`로 생성\n",
    "   - 키를 통해 값에 접근\n",
    "\n",
    "4. **집합 (Set)**\n",
    "   - 중복되지 않는 요소들의 모음\n",
    "   - 중괄호 `{}`로 생성\n",
    "   - 수학의 집합 연산 지원"
   ]
  },
  {
   "cell_type": "markdown",
   "id": "ffa1ef1f",
   "metadata": {},
   "source": [
    "### 📌 1.6.1 리스트 (List)  \n",
    "리스트는 여러 개의 값을 저장하는 자료구조입니다.  \n",
    "✔ 대괄호 `[ ]`를 사용하여 선언  \n",
    "✔ `append()`를 사용하여 요소 추가 가능  \n",
    "✔ `len()`을 사용하여 리스트 길이 확인  "
   ]
  },
  {
   "cell_type": "code",
   "execution_count": 1,
   "id": "code-list-examples",
   "metadata": {},
   "outputs": [
    {
     "name": "stdout",
     "output_type": "stream",
     "text": [
      "=== 리스트 예제 ===\n",
      "원본 리스트: [1, 2, 3, 4, 5]\n",
      "첫 번째 요소: 1\n",
      "마지막 요소: 5\n",
      "슬라이싱 [1:3]: [2, 3]\n",
      "\n",
      "리스트 조작:\n",
      "append 후: [1, 2, 3, 4, 5, 6]\n",
      "insert 후: [1, 2, 10, 3, 4, 5, 6]\n",
      "remove 후: [1, 2, 3, 4, 5, 6]\n",
      "정렬 후: [1, 2, 3, 4, 5, 6]\n"
     ]
    }
   ],
   "source": [
    "# 리스트 예제1\n",
    "print(\"=== 리스트 예제 ===\")\n",
    "numbers = [1, 2, 3, 4, 5]\n",
    "print(f\"원본 리스트: {numbers}\")\n",
    "print(f\"첫 번째 요소: {numbers[0]}\")\n",
    "print(f\"마지막 요소: {numbers[-1]}\")\n",
    "print(f\"슬라이싱 [1:3]: {numbers[1:3]}\")\n",
    "\n",
    "print(\"\\n리스트 조작:\")\n",
    "numbers.append(6)        # 끝에 추가\n",
    "print(f\"append 후: {numbers}\")\n",
    "\n",
    "numbers.insert(2, 10)    # 인덱스 2에 10 삽입\n",
    "print(f\"insert 후: {numbers}\")\n",
    "\n",
    "numbers.remove(10)       # 값 10 제거\n",
    "print(f\"remove 후: {numbers}\")\n",
    "\n",
    "numbers.sort()           # 정렬\n",
    "print(f\"정렬 후: {numbers}\")\n"
   ]
  },
  {
   "cell_type": "code",
   "execution_count": null,
   "id": "12536c92",
   "metadata": {},
   "outputs": [],
   "source": [
    "\n",
    "# 리스트 예제2\n",
    "fruits = [\"사과\", \"바나나\", \"체리\"]\n",
    "fruits.append(\"포도\")  # 요소 추가\n",
    "print(fruits)\n",
    "\n",
    "# 리스트 길이 확인\n",
    "print(\"리스트 길이:\", len(fruits))"
   ]
  },
  {
   "cell_type": "markdown",
   "id": "784aaf4f",
   "metadata": {},
   "source": [
    "### 📌 1.6.2 튜플 (Tuple)\n",
    "\n",
    "튜플은 리스트와 비슷하지만 수정이 불가능한(immutable) 자료구조입니다.  \n",
    "✔ 소괄호 `( )`를 사용하여 선언  \n",
    "✔ 한 번 생성하면 값을 변경할 수 없음  \n",
    "✔ 읽기 전용 데이터에 적합"
   ]
  },
  {
   "cell_type": "code",
   "execution_count": 1,
   "id": "code-tuple-examples",
   "metadata": {},
   "outputs": [
    {
     "name": "stdout",
     "output_type": "stream",
     "text": [
      "=== 튜플 예제 ===\n",
      "원본 튜플: (1, 2, 3)\n",
      "첫 번째 요소: 1\n",
      "튜플 길이: 3\n",
      "2의 개수: 1\n"
     ]
    }
   ],
   "source": [
    "# 튜플 예제1\n",
    "print(\"=== 튜플 예제 ===\")\n",
    "point = (1, 2, 3)\n",
    "print(f\"원본 튜플: {point}\")\n",
    "print(f\"첫 번째 요소: {point[0]}\")\n",
    "print(f\"튜플 길이: {len(point)}\")\n",
    "print(f\"2의 개수: {point.count(2)}\")\n"
   ]
  },
  {
   "cell_type": "code",
   "execution_count": null,
   "id": "cf8aac39",
   "metadata": {},
   "outputs": [],
   "source": [
    "\n",
    "#튜플 예제2\n",
    "coordinates = (10, 20)\n",
    "rgb_color = (255, 128, 0)\n",
    "#튜플 언패킹\n",
    "x, y = coordinates\n",
    "print(f\"x좌표: {x}, y좌표: {y}\")\n",
    "#튜플은 수정 불가능\n",
    "#coordinates[0] = 30 # 이 코드는 오류 발생"
   ]
  },
  {
   "cell_type": "markdown",
   "id": "2d9e2ead",
   "metadata": {},
   "source": [
    "### 📌 1.6.3 딕셔너리 (Dictionary)\n",
    "딕셔너리는 키-값 쌍으로 이루어진 자료구조입니다.  \n",
    "✔ 중괄호 `{ }`를 사용하여 선언  \n",
    "✔ 키를 통해 값에 빠르게 접근 가능  \n",
    "✔ 키는 고유해야 하며, 값은 중복 가능"
   ]
  },
  {
   "cell_type": "code",
   "execution_count": 3,
   "id": "code-dict-examples",
   "metadata": {},
   "outputs": [
    {
     "name": "stdout",
     "output_type": "stream",
     "text": [
      "=== 딕셔너리 예제 ===\n",
      "원본 딕셔너리: {'name': '홍길동', 'age': 25, 'city': '서울'}\n",
      "이름: 홍길동\n",
      "나이: 25\n",
      "\n",
      "딕셔너리 조작:\n",
      "추가 후: {'name': '홍길동', 'age': 25, 'city': '서울', 'job': '개발자'}\n",
      "수정 후: {'name': '홍길동', 'age': 26, 'city': '서울', 'job': '개발자'}\n",
      "삭제 후: {'name': '홍길동', 'age': 26, 'job': '개발자'}\n",
      "\n",
      "키 목록: ['name', 'age', 'job']\n",
      "값 목록: ['홍길동', 26, '개발자']\n"
     ]
    }
   ],
   "source": [
    "# 딕셔너리 예제1\n",
    "print(\"=== 딕셔너리 예제 ===\")\n",
    "person = {\n",
    "    'name': '홍길동',\n",
    "    'age': 25,\n",
    "    'city': '서울'\n",
    "}\n",
    "print(f\"원본 딕셔너리: {person}\")\n",
    "print(f\"이름: {person['name']}\")\n",
    "print(f\"나이: {person['age']}\")\n",
    "\n",
    "print(\"\\n딕셔너리 조작:\")\n",
    "person['job'] = '개발자'    # 새 키-값 추가\n",
    "print(f\"추가 후: {person}\")\n",
    "\n",
    "person['age'] = 26         # 값 수정\n",
    "print(f\"수정 후: {person}\")\n",
    "\n",
    "del person['city']         # 키-값 쌍 삭제\n",
    "print(f\"삭제 후: {person}\")\n",
    "\n",
    "print(f\"\\n키 목록: {list(person.keys())}\")\n",
    "print(f\"값 목록: {list(person.values())}\")\n"
   ]
  },
  {
   "cell_type": "code",
   "execution_count": null,
   "id": "79d6e2ab",
   "metadata": {},
   "outputs": [],
   "source": [
    "\n",
    "#딕셔너리 예제2\n",
    "student = {\n",
    "\"name\": \"홍길동\",\n",
    "\"age\": 20,\n",
    "\"grades\": [90, 85, 88]\n",
    "}\n",
    "#값 접근 및 수정\n",
    "print(student[\"name\"])\n",
    "student[\"age\"] = 21\n",
    "#새로운 키-값 쌍 추가\n",
    "student[\"major\"] = \"컴퓨터공학\"\n",
    "#딕셔너리 메서드 활용\n",
    "print(\"키 목록:\", student.keys())\n",
    "print(\"값 목록:\", student.values())\n",
    "print(\"키-값 쌍:\", student.items())"
   ]
  },
  {
   "cell_type": "markdown",
   "id": "markdown-set-intro",
   "metadata": {},
   "source": [
    "### 📌 1.6.4 집합 (Set)\n",
    "\n",
    "집합은 수학의 집합 개념을 구현한 자료구조입니다.\n",
    "\n",
    "**주요 특징:**\n",
    "1. **중복 제거**\n",
    "   - 동일한 값을 여러 번 추가해도 한 번만 저장됨\n",
    "   - 리스트나 튜플의 중복 요소를 제거할 때 유용\n",
    "\n",
    "2. **순서 없음**\n",
    "   - 요소들의 순서가 유지되지 않음\n",
    "   - 인덱싱으로 접근 불가\n",
    "\n",
    "3. **집합 연산**\n",
    "   - 합집합 (|): 두 집합의 모든 요소\n",
    "   - 교집합 (&): 두 집합의 공통 요소\n",
    "   - 차집합 (-): A-B는 A에는 있고 B에는 없는 요소\n",
    "   - 대칭차집합 (^): 한쪽에만 있는 요소들의 집합\n",
    "\n",
    "4. **주요 메서드**\n",
    "   - `add()`: 요소 추가\n",
    "   - `remove()`: 요소 제거 (없으면 에러)\n",
    "   - `discard()`: 요소 제거 (없어도 에러 없음)\n",
    "   - `update()`: 여러 요소 추가\n",
    "   - `clear()`: 모든 요소 제거\n",
    "\n",
    "5. **활용 사례**\n",
    "   - 중복 제거가 필요한 데이터 처리\n",
    "   - 멤버십 테스트 (포함 여부 확인)\n",
    "   - 수학적 집합 연산이 필요한 경우"
   ]
  },
  {
   "cell_type": "code",
   "execution_count": 1,
   "id": "code-set-basic",
   "metadata": {},
   "outputs": [
    {
     "name": "stdout",
     "output_type": "stream",
     "text": [
      "=== 집합 기본 연산 ===\n",
      "원본 집합: {1, 2, 3, 4, 5}\n",
      "요소 추가 후: {1, 2, 3, 4, 5, 6}\n",
      "요소 제거 후: {1, 2, 3, 5, 6}\n",
      "여러 요소 추가 후: {1, 2, 3, 5, 6, 7, 8, 9}\n"
     ]
    }
   ],
   "source": [
    "# 집합 기본 연산 예제\n",
    "print(\"=== 집합 기본 연산 ===\")\n",
    "my_set = {1, 2, 3, 4, 5}\n",
    "print(f\"원본 집합: {my_set}\")\n",
    "\n",
    "# 요소 추가\n",
    "my_set.add(6)\n",
    "print(f\"요소 추가 후: {my_set}\")\n",
    "\n",
    "# 요소 제거\n",
    "my_set.remove(4)\n",
    "print(f\"요소 제거 후: {my_set}\")\n",
    "\n",
    "# 여러 요소 추가\n",
    "my_set.update([7, 8, 9])\n",
    "print(f\"여러 요소 추가 후: {my_set}\")"
   ]
  },
  {
   "cell_type": "code",
   "execution_count": 2,
   "id": "code-set-operations",
   "metadata": {},
   "outputs": [
    {
     "name": "stdout",
     "output_type": "stream",
     "text": [
      "=== 집합 연산 ===\n",
      "A: {1, 2, 3, 4, 5}\n",
      "B: {4, 5, 6, 7, 8}\n",
      "\n",
      "집합 연산:\n",
      "합집합 (A | B): {1, 2, 3, 4, 5, 6, 7, 8}\n",
      "교집합 (A & B): {4, 5}\n",
      "차집합 (A - B): {1, 2, 3}\n",
      "대칭차집합 (A ^ B): {1, 2, 3, 6, 7, 8}\n",
      "\n",
      "부분집합 여부: False\n",
      "상위집합 여부: False\n"
     ]
    }
   ],
   "source": [
    "# 집합 연산 예제\n",
    "print(\"=== 집합 연산 ===\")\n",
    "A = {1, 2, 3, 4, 5}\n",
    "B = {4, 5, 6, 7, 8}\n",
    "print(f\"A: {A}\")\n",
    "print(f\"B: {B}\")\n",
    "\n",
    "print(\"\\n집합 연산:\")\n",
    "print(f\"합집합 (A | B): {A | B}\")\n",
    "print(f\"교집합 (A & B): {A & B}\")\n",
    "print(f\"차집합 (A - B): {A - B}\")\n",
    "print(f\"대칭차집합 (A ^ B): {A ^ B}\")\n",
    "\n",
    "# 부분집합/상위집합 검사\n",
    "print(f\"\\n부분집합 여부: {A.issubset(B)}\")\n",
    "print(f\"상위집합 여부: {A.issuperset(B)}\")"
   ]
  },
  {
   "cell_type": "code",
   "execution_count": 3,
   "id": "code-set-practical",
   "metadata": {},
   "outputs": [
    {
     "name": "stdout",
     "output_type": "stream",
     "text": [
      "=== 집합 활용 예제 ===\n",
      "원본 리스트: [1, 2, 2, 3, 3, 3, 4, 4, 5]\n",
      "중복 제거 후: [1, 2, 3, 4, 5]\n",
      "\n",
      "두 리스트의 공통 요소: {4, 5}\n",
      "첫 번째 리스트에만 있는 요소: {1, 2, 3}\n"
     ]
    }
   ],
   "source": [
    "# 집합 활용 예제\n",
    "print(\"=== 집합 활용 예제 ===\")\n",
    "# 중복 제거\n",
    "numbers = [1, 2, 2, 3, 3, 3, 4, 4, 5]\n",
    "print(f\"원본 리스트: {numbers}\")\n",
    "unique_numbers = list(set(numbers))\n",
    "print(f\"중복 제거 후: {unique_numbers}\")\n",
    "\n",
    "# 두 리스트의 비교\n",
    "list1 = [1, 2, 3, 4, 5]\n",
    "list2 = [4, 5, 6, 7, 8]\n",
    "set1 = set(list1)\n",
    "set2 = set(list2)\n",
    "\n",
    "print(f\"\\n두 리스트의 공통 요소: {set1 & set2}\")\n",
    "print(f\"첫 번째 리스트에만 있는 요소: {set1 - set2}\")"
   ]
  },
  {
   "cell_type": "markdown",
   "id": "markdown-set-tips",
   "metadata": {},
   "source": [
    "### 💡 집합 사용 팁\n",
    "\n",
    "1. **성능 고려사항**\n",
    "   - 멤버십 테스트(`in` 연산)가 리스트보다 훨씬 빠름\n",
    "   - 중복 제거 시 리스트를 집합으로 변환하는 것이 효율적\n",
    "\n",
    "2. **주의사항**\n",
    "   - 집합의 요소는 반드시 해시 가능(hashable)해야 함\n",
    "   - 리스트나 딕셔너리는 집합의 요소가 될 수 없음\n",
    "   - 순서가 중요한 경우에는 사용하지 않는 것이 좋음\n",
    "\n",
    "3. **일반적인 사용 사례**\n",
    "   - 데이터 중복 제거\n",
    "   - 두 데이터 집합의 비교\n",
    "   - 고유한 값들의 모음 관리"
   ]
  },
  {
   "cell_type": "code",
   "execution_count": 4,
   "id": "code-set-examples",
   "metadata": {},
   "outputs": [
    {
     "name": "stdout",
     "output_type": "stream",
     "text": [
      "=== 집합 예제 ===\n",
      "A: {1, 2, 3, 4, 5}\n",
      "B: {4, 5, 6, 7, 8}\n",
      "\n",
      "집합 연산:\n",
      "합집합: {1, 2, 3, 4, 5, 6, 7, 8}\n",
      "교집합: {4, 5}\n",
      "차집합 (A-B): {1, 2, 3}\n",
      "대칭차집합: {1, 2, 3, 6, 7, 8}\n"
     ]
    }
   ],
   "source": [
    "# 집합 예제\n",
    "print(\"=== 집합 예제 ===\")\n",
    "A = {1, 2, 3, 4, 5}\n",
    "B = {4, 5, 6, 7, 8}\n",
    "print(f\"A: {A}\")\n",
    "print(f\"B: {B}\")\n",
    "\n",
    "print(\"\\n집합 연산:\")\n",
    "print(f\"합집합: {A | B}\")\n",
    "print(f\"교집합: {A & B}\")\n",
    "print(f\"차집합 (A-B): {A - B}\")\n",
    "print(f\"대칭차집합: {A ^ B}\")"
   ]
  },
  {
   "cell_type": "markdown",
   "id": "markdown-data-structures-summary",
   "metadata": {},
   "source": [
    "### 📌 데이터 구조 선택 가이드\n",
    "\n",
    "각 데이터 구조의 특징과 사용 시기:\n",
    "\n",
    "1. **리스트 사용**\n",
    "   - 순서가 중요할 때\n",
    "   - 데이터 수정이 필요할 때\n",
    "   - 중복 데이터를 허용할 때\n",
    "\n",
    "2. **튜플 사용**\n",
    "   - 데이터 수정을 방지하고 싶을 때\n",
    "   - 딕셔너리의 키로 사용할 때\n",
    "   - 함수의 리턴값으로 여러 값을 반환할 때\n",
    "\n",
    "3. **딕셔너리 사용**\n",
    "   - 키-값 쌍으로 데이터를 저장할 때\n",
    "   - 빠른 검색이 필요할 때\n",
    "   - JSON과 같은 데이터 구조가 필요할 때\n",
    "\n",
    "4. **집합 사용**\n",
    "   - 중복을 제거할 때\n",
    "   - 집합 연산이 필요할 때\n",
    "   - 멤버십 테스트가 필요할 때"
   ]
  },
  {
   "cell_type": "markdown",
   "metadata": {},
   "source": [
    "## 1.7 입출력 및 파일 처리\n",
    "\n",
    "### 📌 1.7.1 표준 입출력\n",
    "\n",
    "다양한 형식으로 입출력을 처리할 수 있습니다.\n",
    "- `input()` 함수의 형 변환\n",
    "- `print()` 함수의 다양한 옵션\n",
    "- f-string을 활용한 포맷팅"
   ]
  },
  {
   "cell_type": "code",
   "execution_count": null,
   "metadata": {},
   "outputs": [],
   "source": [
    "# 표준 입력 및 출력\n",
    "name = input(\"이름을 입력하세요: \")\n",
    "print(f\"안녕하세요, {name}님!\")\n",
    "\n",
    "# 다양한 입력 처리\n",
    "age = int(input(\"나이를 입력하세요: \"))\n",
    "height = float(input(\"키를 입력하세요(cm): \"))\n",
    "\n",
    "# 다양한 출력 형식\n",
    "print(\"이름: {}, 나이: {}\".format(name, age))\n",
    "print(f\"키: {height:.1f}cm\")\n",
    "\n",
    "# sep, end 옵션 활용\n",
    "print(\"Python\", \"Java\", \"C++\", sep=\" | \")\n",
    "print(\"안녕\", end=\"!\")"
   ]
  },
  {
   "cell_type": "markdown",
   "id": "1165e704",
   "metadata": {},
   "source": [
    "### f-string 포맷팅 예제\n",
    "\n",
    "- 기본 사용법"
   ]
  },
  {
   "cell_type": "code",
   "execution_count": null,
   "id": "3777c87c",
   "metadata": {},
   "outputs": [],
   "source": [
    "# 1. 기본 f-string 예제\n",
    "print(\"=== 기본 f-string 예제 ===\\n\")\n",
    "\n",
    "# 변수 선언\n",
    "name = \"홍길동\"\n",
    "age = 25\n",
    "job = \"프로그래머\"\n",
    "\n",
    "# 기본 f-string 사용\n",
    "print(f\"이름: {name}\")\n",
    "print(f\"나이: {age}살\")\n",
    "print(f\"직업: {job}\")\n",
    "\n",
    "# 여러 변수 조합\n",
    "print(f\"\\n자기소개: 안녕하세요, 저는 {age}살 {name}입니다.\")"
   ]
  },
  {
   "cell_type": "markdown",
   "id": "87dedc0e",
   "metadata": {},
   "source": [
    "- 포맷팅 옵션"
   ]
  },
  {
   "cell_type": "code",
   "execution_count": null,
   "id": "c3153eb0",
   "metadata": {},
   "outputs": [],
   "source": [
    "# 2. 포맷팅 옵션 예제\n",
    "print(\"=== 포맷팅 옵션 예제 ===\\n\")\n",
    "\n",
    "# 숫자 포맷팅\n",
    "number = 123\n",
    "pi = 3.14159\n",
    "percentage = 0.75\n",
    "\n",
    "print(\"숫자 포맷팅:\")\n",
    "print(f\"- 정수: {number:05d}\")  # 5자리, 빈자리는 0으로 채움\n",
    "print(f\"- 실수: {pi:.3f}\")      # 소수점 3자리까지\n",
    "print(f\"- 백분율: {percentage:.2%}\")  # 백분율 표시"
   ]
  },
  {
   "cell_type": "markdown",
   "id": "fe7ec803",
   "metadata": {},
   "source": [
    "- 고급 기능"
   ]
  },
  {
   "cell_type": "code",
   "execution_count": null,
   "id": "b5a2f86a",
   "metadata": {},
   "outputs": [],
   "source": [
    "# 3. 고급 기능 예제\n",
    "print(\"=== 고급 기능 예제 ===\\n\")\n",
    "\n",
    "from datetime import datetime\n",
    "\n",
    "# 날짜/시간 포맷팅\n",
    "now = datetime.now()\n",
    "print(\"날짜/시간 포맷팅:\")\n",
    "print(f\"- 현재 날짜: {now:%Y-%m-%d}\")\n",
    "print(f\"- 현재 시간: {now:%H:%M:%S}\")\n",
    "\n",
    "# 표현식 사용\n",
    "x, y = 2, 3\n",
    "print(f\"\\n계산 결과: {x} + {y} = {x + y}\")\n",
    "\n",
    "# 조건문 사용\n",
    "age = 25\n",
    "print(f\"상태: {'성인' if age >= 20 else '미성년자'}\")"
   ]
  },
  {
   "cell_type": "markdown",
   "id": "14d068ac",
   "metadata": {},
   "source": [
    "### 📌 1.7.2 파일 읽기 및 쓰기\n",
    "\n",
    "파일 처리의 다양한 모드와 방법을 활용할 수 있습니다.\n",
    "- 다양한 파일 모드 (`r`, `w`, `a`, `b`)\n",
    "- 여러 줄 읽기/쓰기\n",
    "- with 문을 활용한 안전한 파일 처리"
   ]
  },
  {
   "cell_type": "code",
   "execution_count": null,
   "id": "f47bbc79",
   "metadata": {},
   "outputs": [],
   "source": [
    "# 파일 쓰기\n",
    "with open(\"sample.txt\", \"w\") as file:\n",
    "    file.write(\"Hello, Python!\")\n",
    "\n",
    "# 파일 읽기\n",
    "with open(\"sample.txt\", \"r\") as file:\n",
    "    content = file.read()\n",
    "    print(content)"
   ]
  },
  {
   "cell_type": "code",
   "execution_count": 3,
   "id": "advanced-file-io",
   "metadata": {},
   "outputs": [
    {
     "name": "stdout",
     "output_type": "stream",
     "text": [
      "1번째 줄\n",
      "2번째 줄\n",
      "3번째 줄\n",
      "4번째 줄\n"
     ]
    }
   ],
   "source": [
    "# 여러 줄 쓰기\n",
    "with open(\"notes.txt\", \"w\", encoding=\"utf-8\") as file:\n",
    "    file.write(\"1번째 줄\\n\")\n",
    "    file.write(\"2번째 줄\\n\")\n",
    "    file.writelines([\"3번째 줄\\n\", \"4번째 줄\\n\"])\n",
    "\n",
    "# 여러 줄 읽기\n",
    "with open(\"notes.txt\", \"r\", encoding=\"utf-8\") as file:\n",
    "    # 한 줄씩 읽기\n",
    "    for line in file:\n",
    "        print(line.strip())"
   ]
  },
  {
   "cell_type": "markdown",
   "id": "file-modes-explanation",
   "metadata": {},
   "source": [
    "### 📌 1.7.3 파일 모드  \n",
    "\n",
    "1. **읽기 모드 (`r`)**\n",
    "   - 파일을 읽기 전용으로 열기\n",
    "   - 파일이 없으면 에러 발생\n",
    "\n",
    "2. **쓰기 모드 (`w`)**\n",
    "   - 파일을 쓰기 전용으로 열기\n",
    "   - 파일이 있으면 내용을 덮어쓰기\n",
    "   - 파일이 없으면 새로 생성\n",
    "\n",
    "3. **추가 모드 (`a`)**\n",
    "   - 파일 끝에 내용을 추가\n",
    "   - 파일이 없으면 새로 생성\n",
    "\n",
    "4. **바이너리 모드 (`b`)**\n",
    "   - 바이너리 형식으로 파일 처리\n",
    "   - 이미지, 실행 파일 등 처리 시 사용\n",
    "\n",
    "5. **텍스트 모드 (`t`)**\n",
    "   - 기본값, 생략 가능\n",
    "   - 텍스트 파일 처리"
   ]
  },
  {
   "cell_type": "code",
   "execution_count": 1,
   "id": "read-mode-example",
   "metadata": {},
   "outputs": [
    {
     "name": "stdout",
     "output_type": "stream",
     "text": [
      "=== 읽기 모드(r) 예제 ===\n",
      "파일 내용:\n",
      "안녕하세요\n",
      "파이썬 파일 입출력 예제입니다.\n",
      "읽기 모드 테스트 중입니다."
     ]
    }
   ],
   "source": [
    "print(\"=== 읽기 모드(r) 예제 ===\")\n",
    "\n",
    "# 먼저 파일 생성\n",
    "with open(\"test.txt\", \"w\", encoding=\"utf-8\") as f:\n",
    "    f.write(\"안녕하세요\\n\")\n",
    "    f.write(\"파이썬 파일 입출력 예제입니다.\\n\")\n",
    "    f.write(\"읽기 모드 테스트 중입니다.\")\n",
    "\n",
    "# 읽기 모드로 파일 열기\n",
    "with open(\"test.txt\", \"r\", encoding=\"utf-8\") as f:\n",
    "    print(\"파일 내용:\")\n",
    "    print(f.read(), end=\"\")"
   ]
  },
  {
   "cell_type": "code",
   "execution_count": 2,
   "id": "write-mode-example",
   "metadata": {},
   "outputs": [
    {
     "name": "stdout",
     "output_type": "stream",
     "text": [
      "=== 쓰기 모드(w) 예제 ===\n",
      "새로운 파일 내용:\n",
      "첫 번째 줄\n",
      "두 번째 줄\n",
      "세 번째 줄"
     ]
    }
   ],
   "source": [
    "print(\"=== 쓰기 모드(w) 예제 ===\")\n",
    "\n",
    "# 쓰기 모드로 파일 열기 (기존 내용 덮어쓰기)\n",
    "with open(\"test.txt\", \"w\", encoding=\"utf-8\") as f:\n",
    "    f.write(\"첫 번째 줄\\n\")\n",
    "    f.write(\"두 번째 줄\\n\")\n",
    "    f.write(\"세 번째 줄\")\n",
    "\n",
    "# 파일 내용 확인\n",
    "with open(\"test.txt\", \"r\", encoding=\"utf-8\") as f:\n",
    "    print(\"새로운 파일 내용:\")\n",
    "    print(f.read(), end=\"\")"
   ]
  },
  {
   "cell_type": "code",
   "execution_count": 3,
   "id": "append-mode-example",
   "metadata": {},
   "outputs": [
    {
     "name": "stdout",
     "output_type": "stream",
     "text": [
      "=== 추가 모드(a) 예제 ===\n",
      "추가 후 전체 내용:\n",
      "첫 번째 줄\n",
      "두 번째 줄\n",
      "세 번째 줄\n",
      "네 번째 줄 (추가)\n",
      "다섯 번째 줄 (추가)"
     ]
    }
   ],
   "source": [
    "print(\"=== 추가 모드(a) 예제 ===\")\n",
    "\n",
    "# 추가 모드로 파일 열기\n",
    "with open(\"test.txt\", \"a\", encoding=\"utf-8\") as f:\n",
    "    f.write(\"\\n네 번째 줄 (추가)\\n\")\n",
    "    f.write(\"다섯 번째 줄 (추가)\")\n",
    "\n",
    "# 전체 내용 확인\n",
    "with open(\"test.txt\", \"r\", encoding=\"utf-8\") as f:\n",
    "    print(\"추가 후 전체 내용:\")\n",
    "    print(f.read(), end=\"\")"
   ]
  },
  {
   "cell_type": "code",
   "execution_count": 4,
   "id": "binary-mode-example",
   "metadata": {},
   "outputs": [
    {
     "name": "stdout",
     "output_type": "stream",
     "text": [
      "=== 바이너리 모드(b) 예제 ===\n",
      "원본 데이터: Hello, Binary Mode!\n",
      "읽은 데이터: Hello, Binary Mode!"
     ]
    }
   ],
   "source": [
    "print(\"=== 바이너리 모드(b) 예제 ===\")\n",
    "\n",
    "# 바이너리 데이터 준비\n",
    "data = \"Hello, Binary Mode!\"\n",
    "print(f\"원본 데이터: {data}\")\n",
    "\n",
    "# 바이너리 쓰기 모드로 파일 열기\n",
    "with open(\"test.bin\", \"wb\") as f:\n",
    "    f.write(data.encode())\n",
    "\n",
    "# 바이너리 읽기 모드로 파일 열기\n",
    "with open(\"test.bin\", \"rb\") as f:\n",
    "    binary_data = f.read()\n",
    "    decoded_data = binary_data.decode()\n",
    "    print(f\"읽은 데이터: {decoded_data}\", end=\"\")"
   ]
  },
  {
   "cell_type": "code",
   "execution_count": 5,
   "id": "line-read-example",
   "metadata": {},
   "outputs": [
    {
     "name": "stdout",
     "output_type": "stream",
     "text": [
      "=== 한 줄씩 읽기 예제 ===\n",
      "1번째 줄: 첫 번째 줄\n",
      "2번째 줄: 두 번째 줄\n",
      "3번째 줄: 세 번째 줄\n",
      "4번째 줄: 네 번째 줄 (추가)\n",
      "5번째 줄: 다섯 번째 줄 (추가)"
     ]
    }
   ],
   "source": [
    "print(\"=== 한 줄씩 읽기 예제 ===\")\n",
    "\n",
    "# 파일을 한 줄씩 읽기\n",
    "with open(\"test.txt\", \"r\", encoding=\"utf-8\") as f:\n",
    "    for i, line in enumerate(f, 1):\n",
    "        print(f\"{i}번째 줄: {line.strip()}\", end=\"\\n\" if i < 5 else \"\")"
   ]
  },
  {
   "cell_type": "markdown",
   "id": "dbeff6bf",
   "metadata": {},
   "source": [
    "\n",
    "## 🎯 실습 문제\n",
    "\n",
    "### 1. 파이썬 인터프리터에서 계산기처럼 사용하기\n",
    "2 + 5 * 10 연산을 실행하고 결과를 출력해보세요.\n",
    "100 / 3 연산을 실행하고 소수점 아래까지 결과를 확인해보세요.\n"
   ]
  },
  {
   "cell_type": "code",
   "execution_count": 1,
   "id": "3ae3531b",
   "metadata": {},
   "outputs": [
    {
     "name": "stdout",
     "output_type": "stream",
     "text": [
      "=== 기본 연산 실습 ===\n",
      "2 + 5 * 10 = 52\n",
      "100 / 3 = 33.333333333333336\n",
      "\n",
      "=== 추가 연산 실습 ===\n",
      "2 ** 3 = 8\n",
      "10 // 3 = 3\n",
      "10 % 3 = 1\n",
      "\n",
      "=== 복합 연산 실습 ===\n",
      "(2 + 5) * 10 = 70\n",
      "100 / 3 (반올림) = 33.33\n",
      "\n",
      "=== 대화형 계산기 ===\n",
      "\n",
      "4.0 + 5.0 = 9.0\n",
      "4.0 - 5.0 = -1.0\n",
      "4.0 * 5.0 = 20.0\n",
      "4.0 / 5.0 = 0.8\n"
     ]
    }
   ],
   "source": [
    "# 기본 계산기 실습\n",
    "\n",
    "# 1. 기본 연산\n",
    "print(\"=== 기본 연산 실습 ===\")\n",
    "result1 = 2 + 5 * 10\n",
    "print(\"2 + 5 * 10 =\", result1)  # 연산자 우선순위에 따라 52가 아닌 52가 출력됨\n",
    "\n",
    "result2 = 100 / 3\n",
    "print(\"100 / 3 =\", result2)  # 소수점까지 정확한 나눗셈 결과\n",
    "\n",
    "# 2. 다양한 연산 실습\n",
    "print(\"\\n=== 추가 연산 실습 ===\")\n",
    "# 제곱 연산\n",
    "print(\"2 ** 3 =\", 2 ** 3)  # 2의 3제곱\n",
    "\n",
    "# 나눗셈 몫\n",
    "print(\"10 // 3 =\", 10 // 3)  # 몫만 구하기\n",
    "\n",
    "# 나눗셈 나머지\n",
    "print(\"10 % 3 =\", 10 % 3)  # 나머지만 구하기\n",
    "\n",
    "# 3. 복합 연산 실습\n",
    "print(\"\\n=== 복합 연산 실습 ===\")\n",
    "result3 = (2 + 5) * 10  # 괄호 사용\n",
    "print(\"(2 + 5) * 10 =\", result3)\n",
    "\n",
    "result4 = round(100 / 3, 2)  # 소수점 둘째자리까지 반올림\n",
    "print(\"100 / 3 (반올림) =\", result4)\n",
    "\n",
    "# 4. 대화형 계산기\n",
    "print(\"\\n=== 대화형 계산기 ===\")\n",
    "try:\n",
    "    num1 = float(input(\"첫 번째 숫자를 입력하세요: \"))\n",
    "    num2 = float(input(\"두 번째 숫자를 입력하세요: \"))\n",
    "    \n",
    "    print(f\"\\n{num1} + {num2} = {num1 + num2}\")\n",
    "    print(f\"{num1} - {num2} = {num1 - num2}\")\n",
    "    print(f\"{num1} * {num2} = {num1 * num2}\")\n",
    "    print(f\"{num1} / {num2} = {num1 / num2}\")\n",
    "except ValueError:\n",
    "    print(\"올바른 숫자를 입력해주세요.\")\n",
    "except ZeroDivisionError:\n",
    "    print(\"0으로 나눌 수 없습니다.\")"
   ]
  },
  {
   "cell_type": "markdown",
   "id": "045c7c8a",
   "metadata": {},
   "source": [
    "\n",
    "### 2.간단한 프로그램 작성하기\n",
    "아래의 코드를 파일(my_info.py)로 저장하고 실행해 보세요.\n"
   ]
  },
  {
   "cell_type": "code",
   "execution_count": 12,
   "id": "900c2485-d031-4147-843c-3c2a44b5cfe7",
   "metadata": {},
   "outputs": [
    {
     "name": "stdout",
     "output_type": "stream",
     "text": [
      "당신의 이름은 무엇인가요?  s\n",
      "당신의 나이는 몇 살인가요?  s\n"
     ]
    },
    {
     "name": "stdout",
     "output_type": "stream",
     "text": [
      "안녕하세요, s님! 당신의 나이는 s살입니다.\n"
     ]
    }
   ],
   "source": [
    "# my_info.py\n",
    "name = input(\"당신의 이름은 무엇인가요? \")\n",
    "age = input(\"당신의 나이는 몇 살인가요? \")\n",
    "\n",
    "print(f\"안녕하세요, {name}님! 당신의 나이는 {age}살입니다.\")"
   ]
  },
  {
   "cell_type": "markdown",
   "id": "practice-problems",
   "metadata": {},
   "source": [
    "### 3. 변수와 데이터 타입 실습\n",
    "사용자로부터 이름, 나이, 키를 입력받아 각각의 데이터 타입을 확인하고, 내년 나이를 계산하여 출력하는 프로그램을 작성하세요.\n",
    "\n",
    "요구사항:\n",
    "- 이름은 문자열로 처리\n",
    "- 나이는 정수로 변환\n",
    "- 키는 실수로 변환\n",
    "- 각 데이터의 타입을 출력\n",
    "- 내년 나이 계산 및 출력"
   ]
  },
  {
   "cell_type": "code",
   "execution_count": 1,
   "id": "solution-3",
   "metadata": {},
   "outputs": [
    {
     "name": "stdout",
     "output_type": "stream",
     "text": [
      "=== 변수와 데이터 타입 실습 ===\n",
      "이름: 홍길동\n",
      "나이: 25\n",
      "키: 175.5cm\n",
      "\n",
      "데이터 타입 확인:\n",
      "이름의 타입: <class 'str'>\n",
      "나이의 타입: <class 'int'>\n",
      "키의 타입: <class 'float'>\n",
      "\n",
      "정보 출력:\n",
      "안녕하세요, 홍길동님!\n",
      "현재 나이: 25살\n",
      "내년 나이: 26살\n",
      "키: 175.5cm"
     ]
    }
   ],
   "source": [
    "# 실습 3 풀이\n",
    "print(\"=== 변수와 데이터 타입 실습 ===\")\n",
    "\n",
    "# 사용자 입력 받기\n",
    "name = input(\"이름을 입력하세요: \")\n",
    "age = int(input(\"나이를 입력하세요: \"))\n",
    "height = float(input(\"키를 입력하세요(cm): \"))\n",
    "\n",
    "# 입력 받은 정보 출력\n",
    "print(f\"이름: {name}\")\n",
    "print(f\"나이: {age}\")\n",
    "print(f\"키: {height}cm\")\n",
    "\n",
    "# 데이터 타입 확인\n",
    "print(\"\\n데이터 타입 확인:\")\n",
    "print(f\"이름의 타입: {type(name)}\")\n",
    "print(f\"나이의 타입: {type(age)}\")\n",
    "print(f\"키의 타입: {type(height)}\")\n",
    "\n",
    "# 정보 활용\n",
    "print(\"\\n정보 출력:\")\n",
    "print(f\"안녕하세요, {name}님!\")\n",
    "print(f\"현재 나이: {age}살\")\n",
    "print(f\"내년 나이: {age + 1}살\")\n",
    "print(f\"키: {height}cm\", end=\"\")"
   ]
  },
  {
   "cell_type": "markdown",
   "id": "practice-4",
   "metadata": {},
   "source": [
    "### 4. 조건문 실습\n",
    "학생의 점수를 입력받아 학점을 계산하는 프로그램을 작성하세요.\n",
    "\n",
    "요구사항:\n",
    "- 90점 이상: A\n",
    "- 80점 이상: B\n",
    "- 70점 이상: C\n",
    "- 60점 이상: D\n",
    "- 60점 미만: F\n",
    "- 각 학점별로 다른 평가 메시지 출력"
   ]
  },
  {
   "cell_type": "code",
   "execution_count": 2,
   "id": "solution-4",
   "metadata": {},
   "outputs": [
    {
     "name": "stdout",
     "output_type": "stream",
     "text": [
      "=== 학점 계산 프로그램 ===\n",
      "\n",
      "입력한 점수: 85점\n",
      "\n",
      "결과:\n",
      "- 학점: B\n",
      "- 평가: 우수한 성적입니다!\n",
      "- 추가 정보: 5점만 더 높았다면 A학점이었습니다."
     ]
    }
   ],
   "source": [
    "# 실습 4 풀이\n",
    "print(\"=== 학점 계산 프로그램 ===\\n\")\n",
    "\n",
    "# 점수 입력\n",
    "score = int(input(\"점수를 입력하세요 (0-100): \"))\n",
    "print(f\"입력한 점수: {score}점\\n\")\n",
    "\n",
    "# 학점 계산\n",
    "if score >= 90:\n",
    "    grade = \"A\"\n",
    "    message = \"탁월한 성적입니다!\"\n",
    "    extra = \"축하합니다! 최고 학점을 받으셨습니다.\"\n",
    "elif score >= 80:\n",
    "    grade = \"B\"\n",
    "    message = \"우수한 성적입니다!\"\n",
    "    extra = f\"{90-score}점만 더 높았다면 A학점이었습니다.\"\n",
    "elif score >= 70:\n",
    "    grade = \"C\"\n",
    "    message = \"좋은 성적입니다.\"\n",
    "    extra = f\"{80-score}점만 더 높았다면 B학점이었습니다.\"\n",
    "elif score >= 60:\n",
    "    grade = \"D\"\n",
    "    message = \"조금 더 노력이 필요합니다.\"\n",
    "    extra = f\"{70-score}점만 더 높았다면 C학점이었습니다.\"\n",
    "else:\n",
    "    grade = \"F\"\n",
    "    message = \"재수강이 필요합니다.\"\n",
    "    extra = f\"{60-score}점만 더 높았다면 D학점이었습니다.\"\n",
    "\n",
    "# 결과 출력\n",
    "print(\"결과:\")\n",
    "print(f\"- 학점: {grade}\")\n",
    "print(f\"- 평가: {message}\")\n",
    "print(f\"- 추가 정보: {extra}\", end=\"\")"
   ]
  },
  {
   "cell_type": "markdown",
   "id": "practice-5",
   "metadata": {},
   "source": [
    "### 5. 반복문 실습\n",
    "사용자가 입력한 범위의 숫자들에 대해 다음을 계산하는 프로그램을 작성하세요.\n",
    "\n",
    "요구사항:\n",
    "- 시작 숫자와 끝 숫자를 입력받음\n",
    "- 해당 범위의 모든 숫자의 합계\n",
    "- 짝수의 합계\n",
    "- 홀수의 합계\n",
    "- 평균값\n",
    "- 계산 과정을 시각적으로 표시"
   ]
  },
  {
   "cell_type": "code",
   "execution_count": 3,
   "id": "solution-5",
   "metadata": {},
   "outputs": [
    {
     "name": "stdout",
     "output_type": "stream",
     "text": [
      "=== 숫자 범위 계산 프로그램 ===\n",
      "\n",
      "계산 과정:\n",
      "1 + 2 + 3 + 4 + 5 + 6 + 7 + 8 + 9 + 10\n",
      "\n",
      "계산 결과:\n",
      "- 전체 합계: 55\n",
      "- 짝수 합계: 30\n",
      "- 홀수 합계: 25\n",
      "- 평균값: 5.5\n",
      "\n",
      "추가 정보:\n",
      "- 짝수 개수: 5개\n",
      "- 홀수 개수: 5개"
     ]
    }
   ],
   "source": [
    "# 실습 5 풀이\n",
    "print(\"=== 숫자 범위 계산 프로그램 ===\\n\")\n",
    "\n",
    "# 범위 입력\n",
    "start = int(input(\"시작 숫자를 입력하세요: \"))\n",
    "end = int(input(\"끝 숫자를 입력하세요: \"))\n",
    "\n",
    "# 변수 초기화\n",
    "total = 0\n",
    "even_sum = 0\n",
    "odd_sum = 0\n",
    "even_count = 0\n",
    "odd_count = 0\n",
    "\n",
    "# 계산 과정 출력\n",
    "print(\"\\n계산 과정:\")\n",
    "for i in range(start, end + 1):\n",
    "    total += i\n",
    "    if i % 2 == 0:\n",
    "        even_sum += i\n",
    "        even_count += 1\n",
    "    else:\n",
    "        odd_sum += i\n",
    "        odd_count += 1\n",
    "    \n",
    "    if i < end:\n",
    "        print(i, end=\" + \")\n",
    "    else:\n",
    "        print(i)\n",
    "\n",
    "# 결과 출력\n",
    "count = end - start + 1\n",
    "print(\"\\n계산 결과:\")\n",
    "print(f\"- 전체 합계: {total}\")\n",
    "print(f\"- 짝수 합계: {even_sum}\")\n",
    "print(f\"- 홀수 합계: {odd_sum}\")\n",
    "print(f\"- 평균값: {total/count}\")\n",
    "\n",
    "print(\"\\n추가 정보:\")\n",
    "print(f\"- 짝수 개수: {even_count}개\")\n",
    "print(f\"- 홀수 개수: {odd_count}개\", end=\"\")"
   ]
  },
  {
   "cell_type": "markdown",
   "id": "practice-6",
   "metadata": {},
   "source": [
    "### 6. 데이터 구조 실습\n",
    "학생들의 성적 정보를 관리하는 프로그램을 작성하세요.\n",
    "\n",
    "요구사항:\n",
    "- 학생 이름과 점수를 입력받아 딕셔너리에 저장\n",
    "- 전체 학생 목록과 점수 출력\n",
    "- 최고점과 최저점 출력\n",
    "- 평균 점수 계산\n",
    "- 특정 점수 이상인 학생들의 명단 출력"
   ]
  },
  {
   "cell_type": "code",
   "execution_count": 4,
   "id": "solution-6",
   "metadata": {},
   "outputs": [
    {
     "name": "stdout",
     "output_type": "stream",
     "text": [
      "=== 학생 성적 관리 프로그램 ===\n",
      "\n",
      "전체 학생 성적:\n",
      "- 홍길동: 85점\n",
      "- 김철수: 92점\n",
      "- 이영희: 78점\n",
      "\n",
      "성적 분석:\n",
      "- 최고점: 92점 (김철수)\n",
      "- 최저점: 78점 (이영희)\n",
      "- 평균점수: 85.0점\n",
      "\n",
      "80점 이상 학생 명단:\n",
      "- 홍길동: 85점\n",
      "- 김철수: 92점"
     ]
    }
   ],
   "source": [
    "# 실습 6 풀이\n",
    "print(\"=== 학생 성적 관리 프로그램 ===\\n\")\n",
    "\n",
    "# 학생 정보 저장할 딕셔너리\n",
    "students = {}\n",
    "\n",
    "# 학생 정보 입력\n",
    "while True:\n",
    "    name = input(\"학생 이름을 입력하세요 (종료하려면 q): \")\n",
    "    if name.lower() == 'q':\n",
    "        break\n",
    "    score = int(input(f\"{name}의 점수를 입력하세요: \"))\n",
    "    students[name] = score\n",
    "\n",
    "# 전체 학생 성적 출력\n",
    "print(\"\\n전체 학생 성적:\")\n",
    "for name, score in students.items():\n",
    "    print(f\"- {name}: {score}점\")\n",
    "\n",
    "# 성적 분석\n",
    "max_score = max(students.values())\n",
    "min_score = min(students.values())\n",
    "avg_score = sum(students.values()) / len(students)\n",
    "\n",
    "# 최고점과 최저점 학생 찾기\n",
    "max_student = [name for name, score in students.items() if score == max_score][0]\n",
    "min_student = [name for name, score in students.items() if score == min_score][0]\n",
    "\n",
    "print(\"\\n성적 분석:\")\n",
    "print(f\"- 최고점: {max_score}점 ({max_student})\")\n",
    "print(f\"- 최저점: {min_score}점 ({min_student})\")\n",
    "print(f\"- 평균점수: {avg_score}점\")\n",
    "\n",
    "# 80점 이상 학생 출력\n",
    "print(\"\\n80점 이상 학생 명단:\")\n",
    "high_scores = {name: score for name, score in students.items() if score >= 80}\n",
    "for name, score in high_scores.items():\n",
    "    print(f\"- {name}: {score}점\", end=\"\")"
   ]
  }
 ],
 "metadata": {
  "kernelspec": {
   "display_name": "sky",
   "language": "python",
   "name": "python3"
  },
  "language_info": {
   "codemirror_mode": {
    "name": "ipython",
    "version": 3
   },
   "file_extension": ".py",
   "mimetype": "text/x-python",
   "name": "python",
   "nbconvert_exporter": "python",
   "pygments_lexer": "ipython3",
   "version": "3.8.5"
  }
 },
 "nbformat": 4,
 "nbformat_minor": 5
}
