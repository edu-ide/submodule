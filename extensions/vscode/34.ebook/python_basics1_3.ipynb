{
 "cells": [
  {
   "cell_type": "markdown",
   "id": "9d096c31",
   "metadata": {},
   "source": [
    "# 📘 1권 1부 3장: 데이터 구조\n",
    "\n",
    "## 📌 목차  \n",
    "3.1 리스트(List)와 튜플(Tuple)  \n",
    "3.2 딕셔너리(Dictionary)와 집합(Set)  \n",
    "3.3 리스트 컴프리헨션  \n",
    "3.4 데이터 구조 활용하기  \n"
   ]
  },
  {
   "cell_type": "markdown",
   "id": "68d710cf",
   "metadata": {},
   "source": [
    "## 3.1 리스트(List)와 튜플(Tuple)\n",
    "### ✅ 리스트 (List)란?\n",
    "리스트는 여러 개의 데이터를 순서대로 저장하는 자료구조입니다.\n",
    "\n",
    "- 리스트는 **대괄호 []**를 사용하여 생성합니다.\n",
    "- 리스트 안에는 숫자, 문자열, 리스트, 튜플 등 다양한 타입을 저장할 수 있습니다.\n",
    "- 인덱스를 사용하여 데이터에 접근 가능합니다. (0부터 시작)"
   ]
  },
  {
   "cell_type": "code",
   "execution_count": null,
   "id": "4ef77723",
   "metadata": {},
   "outputs": [],
   "source": [
    "# 리스트 생성\n",
    "fruits = [\"apple\", \"banana\", \"cherry\"]\n",
    "\n",
    "# 리스트 출력\n",
    "print(fruits)\n",
    "\n",
    "# 리스트 요소 접근 (인덱스 사용)\n",
    "print(fruits[0])  # apple\n",
    "print(fruits[1])  # banana\n",
    "print(fruits[2])  # cherry"
   ]
  },
  {
   "cell_type": "markdown",
   "id": "bd022774",
   "metadata": {},
   "source": [
    "### ✅ 리스트 주요 기능\n",
    "✔ 리스트 요소 추가 (append(), insert())  \n",
    "✔ 리스트 요소 제거 (remove(), pop())  \n",
    "✔ 리스트 정렬 및 뒤집기 (sort(), reverse())"
   ]
  },
  {
   "cell_type": "code",
   "execution_count": null,
   "id": "e9399081",
   "metadata": {},
   "outputs": [],
   "source": [
    "numbers = [3, 1, 4, 2, 5]\n",
    "\n",
    "# 요소 추가\n",
    "numbers.append(6)  # 리스트 끝에 추가\n",
    "numbers.insert(1, 10)  # 인덱스 1에 10 추가\n",
    "\n",
    "# 요소 제거\n",
    "numbers.remove(4)  # 값 4를 삭제\n",
    "last_value = numbers.pop()  # 마지막 요소 삭제 후 반환\n",
    "\n",
    "# 정렬 및 뒤집기\n",
    "numbers.sort()  # 오름차순 정렬\n",
    "numbers.reverse()  # 리스트 뒤집기\n",
    "\n",
    "print(numbers)  # [10, 5, 3, 2, 1]"
   ]
  },
  {
   "cell_type": "markdown",
   "id": "38d572a1",
   "metadata": {},
   "source": [
    "### ✅ 튜플 (Tuple)란?\n",
    "튜플은 변경할 수 없는(immutable) 데이터 구조입니다.\n",
    "\n",
    "- 튜플은 **소괄호 ()**를 사용하여 생성합니다.\n",
    "- 리스트와 달리, 한 번 저장하면 값을 변경할 수 없습니다.\n",
    "- 읽기 전용 데이터(변경할 필요 없는 데이터)를 저장할 때 사용됩니다."
   ]
  },
  {
   "cell_type": "code",
   "execution_count": null,
   "id": "b88dde2f",
   "metadata": {},
   "outputs": [],
   "source": [
    "# 튜플 생성\n",
    "colors = (\"red\", \"green\", \"blue\")\n",
    "\n",
    "# 요소 접근 (인덱스 사용)\n",
    "print(colors[0])  # red\n",
    "print(colors[1])  # green\n",
    "\n",
    "# 튜플은 요소 변경이 불가능\n",
    "# colors[0] = \"yellow\"  # TypeError 발생!"
   ]
  },
  {
   "cell_type": "markdown",
   "id": "c04c666c",
   "metadata": {},
   "source": [
    "## 3.2 딕셔너리(Dictionary)와 집합(Set)\n",
    "### ✅ 딕셔너리 (Dictionary)란?\n",
    "딕셔너리는 키(key)와 값(value)의 쌍으로 데이터를 저장하는 자료구조입니다.\n",
    "\n",
    "- 딕셔너리는 **중괄호 {}**를 사용하여 생성합니다.\n",
    "- 데이터의 순서가 아닌 고유한 키를 기준으로 저장됩니다.\n",
    "- 키를 사용하여 데이터를 빠르게 조회할 수 있습니다."
   ]
  },
  {
   "cell_type": "code",
   "execution_count": null,
   "id": "2b19cf52",
   "metadata": {},
   "outputs": [],
   "source": [
    "# 딕셔너리 생성\n",
    "person = {\n",
    "    \"name\": \"Alice\",\n",
    "    \"age\": 25,\n",
    "    \"city\": \"Seoul\"\n",
    "}\n",
    "\n",
    "# 딕셔너리 요소 접근\n",
    "print(person[\"name\"])  # Alice\n",
    "print(person[\"age\"])   # 25\n",
    "\n",
    "# 요소 추가 및 수정\n",
    "person[\"job\"] = \"Engineer\"  # 새 키 추가\n",
    "person[\"age\"] = 26  # 값 수정\n",
    "\n",
    "# 요소 삭제\n",
    "del person[\"city\"]\n",
    "\n",
    "print(person)"
   ]
  },
  {
   "cell_type": "markdown",
   "id": "9c4ee702",
   "metadata": {},
   "source": [
    "### ✅ 집합 (Set)이란?\n",
    "집합(Set)은 중복 없는 데이터를 저장하는 자료구조입니다.\n",
    "\n",
    "- **중괄호 {}**를 사용하여 생성합니다.\n",
    "- 중복된 요소를 자동으로 제거합니다.\n",
    "- 순서가 없으며, 인덱스를 사용해 접근할 수 없습니다."
   ]
  },
  {
   "cell_type": "code",
   "execution_count": null,
   "id": "97b1b576",
   "metadata": {},
   "outputs": [],
   "source": [
    "# 집합 생성\n",
    "numbers = {1, 2, 3, 3, 2, 1, 4, 5}\n",
    "print(numbers)  # 중복이 자동 제거됨\n",
    "\n",
    "# 요소 추가 및 제거\n",
    "numbers.add(6)\n",
    "numbers.remove(4)\n",
    "\n",
    "print(numbers)"
   ]
  },
  {
   "cell_type": "markdown",
   "id": "e136458b",
   "metadata": {},
   "source": [
    "## 3.3 리스트 컴프리헨션\n",
    "리스트 컴프리헨션은 간결하게 리스트를 생성하는 방법입니다."
   ]
  },
  {
   "cell_type": "code",
   "execution_count": null,
   "id": "6cbffb56",
   "metadata": {},
   "outputs": [],
   "source": [
    "# 일반적인 리스트 생성 방식\n",
    "squares = []\n",
    "for i in range(1, 6):\n",
    "    squares.append(i ** 2)\n",
    "\n",
    "# 리스트 컴프리헨션 방식\n",
    "squares_comp = [i ** 2 for i in range(1, 6)]\n",
    "\n",
    "print(squares)  # [1, 4, 9, 16, 25]\n",
    "print(squares_comp)  # [1, 4, 9, 16, 25]"
   ]
  },
  {
   "cell_type": "markdown",
   "id": "2089516e",
   "metadata": {},
   "source": [
    "## 3.4 데이터 구조 활용하기\n",
    "### ✅ 리스트에서 특정 값 찾기"
   ]
  },
  {
   "cell_type": "code",
   "execution_count": null,
   "id": "2e132694",
   "metadata": {},
   "outputs": [],
   "source": [
    "numbers = [10, 20, 30, 40, 50]\n",
    "if 30 in numbers:\n",
    "    print(\"30이 리스트에 포함되어 있습니다.\")"
   ]
  },
  {
   "cell_type": "markdown",
   "id": "61512b29",
   "metadata": {},
   "source": [
    "### ✅ 딕셔너리에서 키와 값 조회하기"
   ]
  },
  {
   "cell_type": "code",
   "execution_count": null,
   "id": "26c88471",
   "metadata": {},
   "outputs": [],
   "source": [
    "person = {\"name\": \"Alice\", \"age\": 25, \"city\": \"Seoul\"}\n",
    "\n",
    "# 키 확인\n",
    "print(person.keys())  # dict_keys(['name', 'age', 'city'])\n",
    "\n",
    "# 값 확인\n",
    "print(person.values())  # dict_values(['Alice', 25, 'Seoul'])\n",
    "\n",
    "# 키-값 쌍 조회\n",
    "print(person.items())  # dict_items([('name', 'Alice'), ('age', 25), ('city', 'Seoul')])"
   ]
  },
  {
   "cell_type": "markdown",
   "id": "22c5c063",
   "metadata": {},
   "source": [
    "## 📌 3장 요약\n",
    "✅ 리스트(List): 순서가 있는 데이터 저장, 수정 가능  \n",
    "✅ 튜플(Tuple): 순서가 있지만 수정 불가능  \n",
    "✅ 딕셔너리(Dictionary): 키-값 쌍으로 저장하며 키를 이용해 데이터 검색  \n",
    "✅ 집합(Set): 중복 없는 데이터 저장, 순서 없음  \n",
    "✅ 리스트 컴프리헨션을 사용하면 간결한 코드 작성 가능"
   ]
  }
 ],
 "metadata": {
  "kernelspec": {
   "display_name": "Python 3",
   "language": "python",
   "name": "python3"
  },
  "language_info": {
   "codemirror_mode": {
    "name": "ipython",
    "version": 3
   },
   "file_extension": ".py",
   "mimetype": "text/x-python",
   "name": "python",
   "nbconvert_exporter": "python",
   "pygments_lexer": "ipython3",
   "version": "3.8.10"
  }
 },
 "nbformat": 4,
 "nbformat_minor": 5
}
